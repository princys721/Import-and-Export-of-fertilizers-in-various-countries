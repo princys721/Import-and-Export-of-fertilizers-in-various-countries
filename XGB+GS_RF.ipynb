{
  "cells": [
    {
      "cell_type": "code",
      "execution_count": null,
      "metadata": {
        "id": "YUba_J4rS9D3"
      },
      "outputs": [],
      "source": [
        "import warnings #to ignore any warnings\n",
        "warnings.filterwarnings('ignore')"
      ]
    },
    {
      "cell_type": "code",
      "execution_count": null,
      "metadata": {
        "id": "GSKRgO4BS_9-"
      },
      "outputs": [],
      "source": [
        "import numpy as np \n",
        "import pandas as pd\n",
        "\n",
        "import matplotlib.pyplot as plt\n",
        "\n",
        "\n",
        "\n",
        "\n"
      ]
    },
    {
      "cell_type": "code",
      "execution_count": null,
      "metadata": {
        "id": "MuGu1ivsRGDv"
      },
      "outputs": [],
      "source": [
        "import pandas as pd\n",
        "df = pd.read_excel('/content/fertilizer.xlsx')"
      ]
    },
    {
      "cell_type": "code",
      "execution_count": null,
      "metadata": {
        "colab": {
          "base_uri": "https://localhost:8080/"
        },
        "id": "ZHPmTjIoRfE2",
        "outputId": "3ba3ae5e-88e9-4d5f-8690-d79d96ccae10"
      },
      "outputs": [
        {
          "output_type": "stream",
          "name": "stdout",
          "text": [
            "<class 'pandas.core.frame.DataFrame'>\n",
            "RangeIndex: 146550 entries, 0 to 146549\n",
            "Data columns (total 11 columns):\n",
            " #   Column        Non-Null Count   Dtype  \n",
            "---  ------        --------------   -----  \n",
            " 0   Area_code     146550 non-null  int64  \n",
            " 1   Area          146550 non-null  object \n",
            " 2   Item_code     146550 non-null  int64  \n",
            " 3   Item          146550 non-null  object \n",
            " 4   Element_code  146550 non-null  int64  \n",
            " 5   Element       146550 non-null  object \n",
            " 6   Year_code     146550 non-null  int64  \n",
            " 7   Year          146550 non-null  int64  \n",
            " 8   Unit          146550 non-null  object \n",
            " 9   Value         146550 non-null  float64\n",
            " 10  Flag          146550 non-null  object \n",
            "dtypes: float64(1), int64(5), object(5)\n",
            "memory usage: 12.3+ MB\n"
          ]
        }
      ],
      "source": [
        "df.info()"
      ]
    },
    {
      "cell_type": "code",
      "execution_count": null,
      "metadata": {
        "id": "7q102wfFRf7u",
        "colab": {
          "base_uri": "https://localhost:8080/"
        },
        "outputId": "cdbaf67c-93d4-42ce-deb9-b48d7501f0a0"
      },
      "outputs": [
        {
          "output_type": "execute_result",
          "data": {
            "text/plain": [
              "Area_code       0\n",
              "Area            0\n",
              "Item_code       0\n",
              "Item            0\n",
              "Element_code    0\n",
              "Element         0\n",
              "Year_code       0\n",
              "Year            0\n",
              "Unit            0\n",
              "Value           0\n",
              "Flag            0\n",
              "dtype: int64"
            ]
          },
          "metadata": {},
          "execution_count": 5
        }
      ],
      "source": [
        "df.isnull().sum()"
      ]
    },
    {
      "cell_type": "code",
      "execution_count": null,
      "metadata": {
        "id": "PU-UJaq2fnvl",
        "colab": {
          "base_uri": "https://localhost:8080/",
          "height": 424
        },
        "outputId": "49cd6e6c-d07f-46fd-d887-83f79c363583"
      },
      "outputs": [
        {
          "output_type": "execute_result",
          "data": {
            "text/plain": [
              "        Area_code  Item_code  Element_code  Year_code  Year\n",
              "0               1       4007          5610       2006  2006\n",
              "1               1       4007          5610       2007  2007\n",
              "2               1       4007          5610       2008  2008\n",
              "3               1       4007          5610       2009  2009\n",
              "4               1       4007          5610       2010  2010\n",
              "...           ...        ...           ...        ...   ...\n",
              "146545        276       4006          5622       2013  2013\n",
              "146546        276       4006          5622       2014  2014\n",
              "146547        276       4006          5622       2015  2015\n",
              "146548        276       4006          5622       2016  2016\n",
              "146549        276       4006          5622       2017  2017\n",
              "\n",
              "[146550 rows x 5 columns]"
            ],
            "text/html": [
              "\n",
              "  <div id=\"df-236dc2da-ddcb-4b6e-bbc8-cdf10938074e\">\n",
              "    <div class=\"colab-df-container\">\n",
              "      <div>\n",
              "<style scoped>\n",
              "    .dataframe tbody tr th:only-of-type {\n",
              "        vertical-align: middle;\n",
              "    }\n",
              "\n",
              "    .dataframe tbody tr th {\n",
              "        vertical-align: top;\n",
              "    }\n",
              "\n",
              "    .dataframe thead th {\n",
              "        text-align: right;\n",
              "    }\n",
              "</style>\n",
              "<table border=\"1\" class=\"dataframe\">\n",
              "  <thead>\n",
              "    <tr style=\"text-align: right;\">\n",
              "      <th></th>\n",
              "      <th>Area_code</th>\n",
              "      <th>Item_code</th>\n",
              "      <th>Element_code</th>\n",
              "      <th>Year_code</th>\n",
              "      <th>Year</th>\n",
              "    </tr>\n",
              "  </thead>\n",
              "  <tbody>\n",
              "    <tr>\n",
              "      <th>0</th>\n",
              "      <td>1</td>\n",
              "      <td>4007</td>\n",
              "      <td>5610</td>\n",
              "      <td>2006</td>\n",
              "      <td>2006</td>\n",
              "    </tr>\n",
              "    <tr>\n",
              "      <th>1</th>\n",
              "      <td>1</td>\n",
              "      <td>4007</td>\n",
              "      <td>5610</td>\n",
              "      <td>2007</td>\n",
              "      <td>2007</td>\n",
              "    </tr>\n",
              "    <tr>\n",
              "      <th>2</th>\n",
              "      <td>1</td>\n",
              "      <td>4007</td>\n",
              "      <td>5610</td>\n",
              "      <td>2008</td>\n",
              "      <td>2008</td>\n",
              "    </tr>\n",
              "    <tr>\n",
              "      <th>3</th>\n",
              "      <td>1</td>\n",
              "      <td>4007</td>\n",
              "      <td>5610</td>\n",
              "      <td>2009</td>\n",
              "      <td>2009</td>\n",
              "    </tr>\n",
              "    <tr>\n",
              "      <th>4</th>\n",
              "      <td>1</td>\n",
              "      <td>4007</td>\n",
              "      <td>5610</td>\n",
              "      <td>2010</td>\n",
              "      <td>2010</td>\n",
              "    </tr>\n",
              "    <tr>\n",
              "      <th>...</th>\n",
              "      <td>...</td>\n",
              "      <td>...</td>\n",
              "      <td>...</td>\n",
              "      <td>...</td>\n",
              "      <td>...</td>\n",
              "    </tr>\n",
              "    <tr>\n",
              "      <th>146545</th>\n",
              "      <td>276</td>\n",
              "      <td>4006</td>\n",
              "      <td>5622</td>\n",
              "      <td>2013</td>\n",
              "      <td>2013</td>\n",
              "    </tr>\n",
              "    <tr>\n",
              "      <th>146546</th>\n",
              "      <td>276</td>\n",
              "      <td>4006</td>\n",
              "      <td>5622</td>\n",
              "      <td>2014</td>\n",
              "      <td>2014</td>\n",
              "    </tr>\n",
              "    <tr>\n",
              "      <th>146547</th>\n",
              "      <td>276</td>\n",
              "      <td>4006</td>\n",
              "      <td>5622</td>\n",
              "      <td>2015</td>\n",
              "      <td>2015</td>\n",
              "    </tr>\n",
              "    <tr>\n",
              "      <th>146548</th>\n",
              "      <td>276</td>\n",
              "      <td>4006</td>\n",
              "      <td>5622</td>\n",
              "      <td>2016</td>\n",
              "      <td>2016</td>\n",
              "    </tr>\n",
              "    <tr>\n",
              "      <th>146549</th>\n",
              "      <td>276</td>\n",
              "      <td>4006</td>\n",
              "      <td>5622</td>\n",
              "      <td>2017</td>\n",
              "      <td>2017</td>\n",
              "    </tr>\n",
              "  </tbody>\n",
              "</table>\n",
              "<p>146550 rows × 5 columns</p>\n",
              "</div>\n",
              "      <button class=\"colab-df-convert\" onclick=\"convertToInteractive('df-236dc2da-ddcb-4b6e-bbc8-cdf10938074e')\"\n",
              "              title=\"Convert this dataframe to an interactive table.\"\n",
              "              style=\"display:none;\">\n",
              "        \n",
              "  <svg xmlns=\"http://www.w3.org/2000/svg\" height=\"24px\"viewBox=\"0 0 24 24\"\n",
              "       width=\"24px\">\n",
              "    <path d=\"M0 0h24v24H0V0z\" fill=\"none\"/>\n",
              "    <path d=\"M18.56 5.44l.94 2.06.94-2.06 2.06-.94-2.06-.94-.94-2.06-.94 2.06-2.06.94zm-11 1L8.5 8.5l.94-2.06 2.06-.94-2.06-.94L8.5 2.5l-.94 2.06-2.06.94zm10 10l.94 2.06.94-2.06 2.06-.94-2.06-.94-.94-2.06-.94 2.06-2.06.94z\"/><path d=\"M17.41 7.96l-1.37-1.37c-.4-.4-.92-.59-1.43-.59-.52 0-1.04.2-1.43.59L10.3 9.45l-7.72 7.72c-.78.78-.78 2.05 0 2.83L4 21.41c.39.39.9.59 1.41.59.51 0 1.02-.2 1.41-.59l7.78-7.78 2.81-2.81c.8-.78.8-2.07 0-2.86zM5.41 20L4 18.59l7.72-7.72 1.47 1.35L5.41 20z\"/>\n",
              "  </svg>\n",
              "      </button>\n",
              "      \n",
              "  <style>\n",
              "    .colab-df-container {\n",
              "      display:flex;\n",
              "      flex-wrap:wrap;\n",
              "      gap: 12px;\n",
              "    }\n",
              "\n",
              "    .colab-df-convert {\n",
              "      background-color: #E8F0FE;\n",
              "      border: none;\n",
              "      border-radius: 50%;\n",
              "      cursor: pointer;\n",
              "      display: none;\n",
              "      fill: #1967D2;\n",
              "      height: 32px;\n",
              "      padding: 0 0 0 0;\n",
              "      width: 32px;\n",
              "    }\n",
              "\n",
              "    .colab-df-convert:hover {\n",
              "      background-color: #E2EBFA;\n",
              "      box-shadow: 0px 1px 2px rgba(60, 64, 67, 0.3), 0px 1px 3px 1px rgba(60, 64, 67, 0.15);\n",
              "      fill: #174EA6;\n",
              "    }\n",
              "\n",
              "    [theme=dark] .colab-df-convert {\n",
              "      background-color: #3B4455;\n",
              "      fill: #D2E3FC;\n",
              "    }\n",
              "\n",
              "    [theme=dark] .colab-df-convert:hover {\n",
              "      background-color: #434B5C;\n",
              "      box-shadow: 0px 1px 3px 1px rgba(0, 0, 0, 0.15);\n",
              "      filter: drop-shadow(0px 1px 2px rgba(0, 0, 0, 0.3));\n",
              "      fill: #FFFFFF;\n",
              "    }\n",
              "  </style>\n",
              "\n",
              "      <script>\n",
              "        const buttonEl =\n",
              "          document.querySelector('#df-236dc2da-ddcb-4b6e-bbc8-cdf10938074e button.colab-df-convert');\n",
              "        buttonEl.style.display =\n",
              "          google.colab.kernel.accessAllowed ? 'block' : 'none';\n",
              "\n",
              "        async function convertToInteractive(key) {\n",
              "          const element = document.querySelector('#df-236dc2da-ddcb-4b6e-bbc8-cdf10938074e');\n",
              "          const dataTable =\n",
              "            await google.colab.kernel.invokeFunction('convertToInteractive',\n",
              "                                                     [key], {});\n",
              "          if (!dataTable) return;\n",
              "\n",
              "          const docLinkHtml = 'Like what you see? Visit the ' +\n",
              "            '<a target=\"_blank\" href=https://colab.research.google.com/notebooks/data_table.ipynb>data table notebook</a>'\n",
              "            + ' to learn more about interactive tables.';\n",
              "          element.innerHTML = '';\n",
              "          dataTable['output_type'] = 'display_data';\n",
              "          await google.colab.output.renderOutput(dataTable, element);\n",
              "          const docLink = document.createElement('div');\n",
              "          docLink.innerHTML = docLinkHtml;\n",
              "          element.appendChild(docLink);\n",
              "        }\n",
              "      </script>\n",
              "    </div>\n",
              "  </div>\n",
              "  "
            ]
          },
          "metadata": {},
          "execution_count": 7
        }
      ],
      "source": [
        "X"
      ]
    },
    {
      "cell_type": "code",
      "execution_count": null,
      "metadata": {
        "id": "zC0hDV4ziF8V"
      },
      "outputs": [],
      "source": [
        "#X = df.drop(['Area_code','Item_code','Element_code','Element'],axis=1)\n",
        "#Y = df['Value']"
      ]
    },
    {
      "cell_type": "code",
      "execution_count": null,
      "metadata": {
        "id": "bfOG2pTGRjT2"
      },
      "outputs": [],
      "source": [
        "X = df.drop(['Area','Item','Flag','Element','Unit','Value'],axis=1)\n",
        "Y = df['Value']"
      ]
    },
    {
      "cell_type": "code",
      "execution_count": null,
      "metadata": {
        "colab": {
          "base_uri": "https://localhost:8080/"
        },
        "id": "FsDCJWldRns2",
        "outputId": "651098fb-6aef-4bea-dbc4-1e32b2746cdf"
      },
      "outputs": [
        {
          "output_type": "execute_result",
          "data": {
            "text/plain": [
              "((146550, 5), (146550,))"
            ]
          },
          "metadata": {},
          "execution_count": 8
        }
      ],
      "source": [
        "X.shape, Y.shape"
      ]
    },
    {
      "cell_type": "code",
      "execution_count": null,
      "metadata": {
        "colab": {
          "base_uri": "https://localhost:8080/"
        },
        "id": "g5rlfPByRnqO",
        "outputId": "c77357fd-b2db-46c2-8cfe-d307a9625de0"
      },
      "outputs": [
        {
          "output_type": "execute_result",
          "data": {
            "text/plain": [
              "((102585, 5), (43965, 5), (102585,), (43965,))"
            ]
          },
          "metadata": {},
          "execution_count": 9
        }
      ],
      "source": [
        "from sklearn.model_selection import train_test_split\n",
        "X_train,X_test,Y_train,Y_test = train_test_split(X,Y, test_size=0.3, random_state=7)\n",
        "X_train.shape,X_test.shape,Y_train.shape,Y_test.shape"
      ]
    },
    {
      "cell_type": "code",
      "execution_count": null,
      "metadata": {
        "id": "R2PsvwXWRnne"
      },
      "outputs": [],
      "source": [
        "def eval_fun(Y_test,Y_pred):\n",
        "    from sklearn.metrics import r2_score,mean_squared_error,mean_absolute_error\n",
        "    r2 = r2_score(Y_test,Y_pred)\n",
        "    mse = mean_squared_error(Y_test,Y_pred)\n",
        "    mae = mean_absolute_error(Y_test,Y_pred)\n",
        "    return r2, mse, mae"
      ]
    },
    {
      "cell_type": "code",
      "execution_count": null,
      "metadata": {
        "id": "LIig4zPbRnkX"
      },
      "outputs": [],
      "source": [
        "from sklearn.ensemble import RandomForestRegressor\n",
        "rf = RandomForestRegressor(oob_score=True)"
      ]
    },
    {
      "cell_type": "code",
      "execution_count": null,
      "metadata": {
        "id": "dAs4KZnhRng9"
      },
      "outputs": [],
      "source": [
        "from sklearn.model_selection import GridSearchCV"
      ]
    },
    {
      "cell_type": "code",
      "execution_count": null,
      "metadata": {
        "id": "JmYcRPJqRndu"
      },
      "outputs": [],
      "source": [
        "# param grid is dictionary \n",
        "# key --> name of parameter to be tuned\n",
        "# value --> list of values which you want to check \n",
        "param_grid = {\n",
        "'n_estimators' : [ 50, 200, 100],\n",
        "'criterion' : ['squared_error','poisson'],\n",
        "'max_depth' :[ 3, 5,7],\n",
        "'max_features' : ['sqrt', 'log2'],\n",
        "'max_samples' : [0.7, 0.8, 0.9]\n",
        "}"
      ]
    },
    {
      "cell_type": "code",
      "source": [
        "gscv =GridSearchCV(estimator = rf, param_grid = param_grid, cv=2, verbose=2)"
      ],
      "metadata": {
        "id": "hHL6cX5eORTB"
      },
      "execution_count": null,
      "outputs": []
    },
    {
      "cell_type": "code",
      "execution_count": null,
      "metadata": {
        "colab": {
          "base_uri": "https://localhost:8080/"
        },
        "id": "iQFAkhaKm9Ug",
        "outputId": "839c6991-9e84-4b80-87a1-82c0dbd3cfc7"
      },
      "outputs": [
        {
          "output_type": "stream",
          "name": "stdout",
          "text": [
            "Fitting 2 folds for each of 108 candidates, totalling 216 fits\n",
            "[CV] END criterion=squared_error, max_depth=3, max_features=sqrt, max_samples=0.7, n_estimators=50; total time=   0.7s\n",
            "[CV] END criterion=squared_error, max_depth=3, max_features=sqrt, max_samples=0.7, n_estimators=50; total time=   0.7s\n",
            "[CV] END criterion=squared_error, max_depth=3, max_features=sqrt, max_samples=0.7, n_estimators=200; total time=   4.7s\n",
            "[CV] END criterion=squared_error, max_depth=3, max_features=sqrt, max_samples=0.7, n_estimators=200; total time=   3.9s\n",
            "[CV] END criterion=squared_error, max_depth=3, max_features=sqrt, max_samples=0.7, n_estimators=100; total time=   1.4s\n",
            "[CV] END criterion=squared_error, max_depth=3, max_features=sqrt, max_samples=0.7, n_estimators=100; total time=   1.4s\n",
            "[CV] END criterion=squared_error, max_depth=3, max_features=sqrt, max_samples=0.8, n_estimators=50; total time=   0.7s\n",
            "[CV] END criterion=squared_error, max_depth=3, max_features=sqrt, max_samples=0.8, n_estimators=50; total time=   0.7s\n",
            "[CV] END criterion=squared_error, max_depth=3, max_features=sqrt, max_samples=0.8, n_estimators=200; total time=   2.8s\n",
            "[CV] END criterion=squared_error, max_depth=3, max_features=sqrt, max_samples=0.8, n_estimators=200; total time=   2.8s\n",
            "[CV] END criterion=squared_error, max_depth=3, max_features=sqrt, max_samples=0.8, n_estimators=100; total time=   1.4s\n",
            "[CV] END criterion=squared_error, max_depth=3, max_features=sqrt, max_samples=0.8, n_estimators=100; total time=   1.4s\n",
            "[CV] END criterion=squared_error, max_depth=3, max_features=sqrt, max_samples=0.9, n_estimators=50; total time=   0.7s\n",
            "[CV] END criterion=squared_error, max_depth=3, max_features=sqrt, max_samples=0.9, n_estimators=50; total time=   0.8s\n",
            "[CV] END criterion=squared_error, max_depth=3, max_features=sqrt, max_samples=0.9, n_estimators=200; total time=   2.9s\n",
            "[CV] END criterion=squared_error, max_depth=3, max_features=sqrt, max_samples=0.9, n_estimators=200; total time=   3.0s\n",
            "[CV] END criterion=squared_error, max_depth=3, max_features=sqrt, max_samples=0.9, n_estimators=100; total time=   1.5s\n",
            "[CV] END criterion=squared_error, max_depth=3, max_features=sqrt, max_samples=0.9, n_estimators=100; total time=   1.5s\n",
            "[CV] END criterion=squared_error, max_depth=3, max_features=log2, max_samples=0.7, n_estimators=50; total time=   0.7s\n",
            "[CV] END criterion=squared_error, max_depth=3, max_features=log2, max_samples=0.7, n_estimators=50; total time=   0.7s\n",
            "[CV] END criterion=squared_error, max_depth=3, max_features=log2, max_samples=0.7, n_estimators=200; total time=   2.7s\n",
            "[CV] END criterion=squared_error, max_depth=3, max_features=log2, max_samples=0.7, n_estimators=200; total time=   2.7s\n",
            "[CV] END criterion=squared_error, max_depth=3, max_features=log2, max_samples=0.7, n_estimators=100; total time=   1.4s\n",
            "[CV] END criterion=squared_error, max_depth=3, max_features=log2, max_samples=0.7, n_estimators=100; total time=   1.4s\n",
            "[CV] END criterion=squared_error, max_depth=3, max_features=log2, max_samples=0.8, n_estimators=50; total time=   0.7s\n",
            "[CV] END criterion=squared_error, max_depth=3, max_features=log2, max_samples=0.8, n_estimators=50; total time=   0.7s\n",
            "[CV] END criterion=squared_error, max_depth=3, max_features=log2, max_samples=0.8, n_estimators=200; total time=   2.8s\n",
            "[CV] END criterion=squared_error, max_depth=3, max_features=log2, max_samples=0.8, n_estimators=200; total time=   2.8s\n",
            "[CV] END criterion=squared_error, max_depth=3, max_features=log2, max_samples=0.8, n_estimators=100; total time=   1.4s\n",
            "[CV] END criterion=squared_error, max_depth=3, max_features=log2, max_samples=0.8, n_estimators=100; total time=   1.4s\n",
            "[CV] END criterion=squared_error, max_depth=3, max_features=log2, max_samples=0.9, n_estimators=50; total time=   0.7s\n",
            "[CV] END criterion=squared_error, max_depth=3, max_features=log2, max_samples=0.9, n_estimators=50; total time=   0.7s\n",
            "[CV] END criterion=squared_error, max_depth=3, max_features=log2, max_samples=0.9, n_estimators=200; total time=   2.9s\n",
            "[CV] END criterion=squared_error, max_depth=3, max_features=log2, max_samples=0.9, n_estimators=200; total time=   2.9s\n",
            "[CV] END criterion=squared_error, max_depth=3, max_features=log2, max_samples=0.9, n_estimators=100; total time=   1.5s\n",
            "[CV] END criterion=squared_error, max_depth=3, max_features=log2, max_samples=0.9, n_estimators=100; total time=   1.5s\n",
            "[CV] END criterion=squared_error, max_depth=5, max_features=sqrt, max_samples=0.7, n_estimators=50; total time=   1.0s\n",
            "[CV] END criterion=squared_error, max_depth=5, max_features=sqrt, max_samples=0.7, n_estimators=50; total time=   0.9s\n",
            "[CV] END criterion=squared_error, max_depth=5, max_features=sqrt, max_samples=0.7, n_estimators=200; total time=   3.7s\n",
            "[CV] END criterion=squared_error, max_depth=5, max_features=sqrt, max_samples=0.7, n_estimators=200; total time=   3.7s\n",
            "[CV] END criterion=squared_error, max_depth=5, max_features=sqrt, max_samples=0.7, n_estimators=100; total time=   2.4s\n",
            "[CV] END criterion=squared_error, max_depth=5, max_features=sqrt, max_samples=0.7, n_estimators=100; total time=   2.1s\n",
            "[CV] END criterion=squared_error, max_depth=5, max_features=sqrt, max_samples=0.8, n_estimators=50; total time=   1.0s\n",
            "[CV] END criterion=squared_error, max_depth=5, max_features=sqrt, max_samples=0.8, n_estimators=50; total time=   1.0s\n",
            "[CV] END criterion=squared_error, max_depth=5, max_features=sqrt, max_samples=0.8, n_estimators=200; total time=   3.9s\n",
            "[CV] END criterion=squared_error, max_depth=5, max_features=sqrt, max_samples=0.8, n_estimators=200; total time=   3.9s\n",
            "[CV] END criterion=squared_error, max_depth=5, max_features=sqrt, max_samples=0.8, n_estimators=100; total time=   1.9s\n",
            "[CV] END criterion=squared_error, max_depth=5, max_features=sqrt, max_samples=0.8, n_estimators=100; total time=   2.0s\n",
            "[CV] END criterion=squared_error, max_depth=5, max_features=sqrt, max_samples=0.9, n_estimators=50; total time=   1.0s\n",
            "[CV] END criterion=squared_error, max_depth=5, max_features=sqrt, max_samples=0.9, n_estimators=50; total time=   1.0s\n",
            "[CV] END criterion=squared_error, max_depth=5, max_features=sqrt, max_samples=0.9, n_estimators=200; total time=   4.1s\n",
            "[CV] END criterion=squared_error, max_depth=5, max_features=sqrt, max_samples=0.9, n_estimators=200; total time=   4.1s\n",
            "[CV] END criterion=squared_error, max_depth=5, max_features=sqrt, max_samples=0.9, n_estimators=100; total time=   2.0s\n",
            "[CV] END criterion=squared_error, max_depth=5, max_features=sqrt, max_samples=0.9, n_estimators=100; total time=   2.0s\n",
            "[CV] END criterion=squared_error, max_depth=5, max_features=log2, max_samples=0.7, n_estimators=50; total time=   0.9s\n",
            "[CV] END criterion=squared_error, max_depth=5, max_features=log2, max_samples=0.7, n_estimators=50; total time=   0.9s\n",
            "[CV] END criterion=squared_error, max_depth=5, max_features=log2, max_samples=0.7, n_estimators=200; total time=   3.6s\n",
            "[CV] END criterion=squared_error, max_depth=5, max_features=log2, max_samples=0.7, n_estimators=200; total time=   3.6s\n",
            "[CV] END criterion=squared_error, max_depth=5, max_features=log2, max_samples=0.7, n_estimators=100; total time=   1.9s\n",
            "[CV] END criterion=squared_error, max_depth=5, max_features=log2, max_samples=0.7, n_estimators=100; total time=   1.8s\n",
            "[CV] END criterion=squared_error, max_depth=5, max_features=log2, max_samples=0.8, n_estimators=50; total time=   0.9s\n",
            "[CV] END criterion=squared_error, max_depth=5, max_features=log2, max_samples=0.8, n_estimators=50; total time=   1.0s\n",
            "[CV] END criterion=squared_error, max_depth=5, max_features=log2, max_samples=0.8, n_estimators=200; total time=   3.8s\n",
            "[CV] END criterion=squared_error, max_depth=5, max_features=log2, max_samples=0.8, n_estimators=200; total time=   3.9s\n",
            "[CV] END criterion=squared_error, max_depth=5, max_features=log2, max_samples=0.8, n_estimators=100; total time=   1.9s\n",
            "[CV] END criterion=squared_error, max_depth=5, max_features=log2, max_samples=0.8, n_estimators=100; total time=   1.9s\n",
            "[CV] END criterion=squared_error, max_depth=5, max_features=log2, max_samples=0.9, n_estimators=50; total time=   1.0s\n",
            "[CV] END criterion=squared_error, max_depth=5, max_features=log2, max_samples=0.9, n_estimators=50; total time=   1.0s\n",
            "[CV] END criterion=squared_error, max_depth=5, max_features=log2, max_samples=0.9, n_estimators=200; total time=   4.0s\n",
            "[CV] END criterion=squared_error, max_depth=5, max_features=log2, max_samples=0.9, n_estimators=200; total time=   4.0s\n",
            "[CV] END criterion=squared_error, max_depth=5, max_features=log2, max_samples=0.9, n_estimators=100; total time=   2.0s\n",
            "[CV] END criterion=squared_error, max_depth=5, max_features=log2, max_samples=0.9, n_estimators=100; total time=   2.0s\n",
            "[CV] END criterion=squared_error, max_depth=7, max_features=sqrt, max_samples=0.7, n_estimators=50; total time=   1.2s\n",
            "[CV] END criterion=squared_error, max_depth=7, max_features=sqrt, max_samples=0.7, n_estimators=50; total time=   1.2s\n",
            "[CV] END criterion=squared_error, max_depth=7, max_features=sqrt, max_samples=0.7, n_estimators=200; total time=   4.7s\n",
            "[CV] END criterion=squared_error, max_depth=7, max_features=sqrt, max_samples=0.7, n_estimators=200; total time=   4.6s\n",
            "[CV] END criterion=squared_error, max_depth=7, max_features=sqrt, max_samples=0.7, n_estimators=100; total time=   2.4s\n",
            "[CV] END criterion=squared_error, max_depth=7, max_features=sqrt, max_samples=0.7, n_estimators=100; total time=   2.3s\n",
            "[CV] END criterion=squared_error, max_depth=7, max_features=sqrt, max_samples=0.8, n_estimators=50; total time=   1.2s\n",
            "[CV] END criterion=squared_error, max_depth=7, max_features=sqrt, max_samples=0.8, n_estimators=50; total time=   1.2s\n",
            "[CV] END criterion=squared_error, max_depth=7, max_features=sqrt, max_samples=0.8, n_estimators=200; total time=   4.8s\n",
            "[CV] END criterion=squared_error, max_depth=7, max_features=sqrt, max_samples=0.8, n_estimators=200; total time=   4.9s\n",
            "[CV] END criterion=squared_error, max_depth=7, max_features=sqrt, max_samples=0.8, n_estimators=100; total time=   2.4s\n",
            "[CV] END criterion=squared_error, max_depth=7, max_features=sqrt, max_samples=0.8, n_estimators=100; total time=   2.4s\n",
            "[CV] END criterion=squared_error, max_depth=7, max_features=sqrt, max_samples=0.9, n_estimators=50; total time=   1.3s\n",
            "[CV] END criterion=squared_error, max_depth=7, max_features=sqrt, max_samples=0.9, n_estimators=50; total time=   1.3s\n",
            "[CV] END criterion=squared_error, max_depth=7, max_features=sqrt, max_samples=0.9, n_estimators=200; total time=   5.0s\n",
            "[CV] END criterion=squared_error, max_depth=7, max_features=sqrt, max_samples=0.9, n_estimators=200; total time=   5.1s\n",
            "[CV] END criterion=squared_error, max_depth=7, max_features=sqrt, max_samples=0.9, n_estimators=100; total time=   2.5s\n",
            "[CV] END criterion=squared_error, max_depth=7, max_features=sqrt, max_samples=0.9, n_estimators=100; total time=   2.6s\n",
            "[CV] END criterion=squared_error, max_depth=7, max_features=log2, max_samples=0.7, n_estimators=50; total time=   1.2s\n",
            "[CV] END criterion=squared_error, max_depth=7, max_features=log2, max_samples=0.7, n_estimators=50; total time=   1.2s\n",
            "[CV] END criterion=squared_error, max_depth=7, max_features=log2, max_samples=0.7, n_estimators=200; total time=   4.6s\n",
            "[CV] END criterion=squared_error, max_depth=7, max_features=log2, max_samples=0.7, n_estimators=200; total time=   4.6s\n",
            "[CV] END criterion=squared_error, max_depth=7, max_features=log2, max_samples=0.7, n_estimators=100; total time=   2.4s\n",
            "[CV] END criterion=squared_error, max_depth=7, max_features=log2, max_samples=0.7, n_estimators=100; total time=   2.4s\n",
            "[CV] END criterion=squared_error, max_depth=7, max_features=log2, max_samples=0.8, n_estimators=50; total time=   1.2s\n",
            "[CV] END criterion=squared_error, max_depth=7, max_features=log2, max_samples=0.8, n_estimators=50; total time=   1.3s\n",
            "[CV] END criterion=squared_error, max_depth=7, max_features=log2, max_samples=0.8, n_estimators=200; total time=   5.0s\n",
            "[CV] END criterion=squared_error, max_depth=7, max_features=log2, max_samples=0.8, n_estimators=200; total time=   5.0s\n",
            "[CV] END criterion=squared_error, max_depth=7, max_features=log2, max_samples=0.8, n_estimators=100; total time=   2.5s\n",
            "[CV] END criterion=squared_error, max_depth=7, max_features=log2, max_samples=0.8, n_estimators=100; total time=   2.5s\n",
            "[CV] END criterion=squared_error, max_depth=7, max_features=log2, max_samples=0.9, n_estimators=50; total time=   1.3s\n",
            "[CV] END criterion=squared_error, max_depth=7, max_features=log2, max_samples=0.9, n_estimators=50; total time=   1.3s\n",
            "[CV] END criterion=squared_error, max_depth=7, max_features=log2, max_samples=0.9, n_estimators=200; total time=   5.2s\n",
            "[CV] END criterion=squared_error, max_depth=7, max_features=log2, max_samples=0.9, n_estimators=200; total time=   5.2s\n",
            "[CV] END criterion=squared_error, max_depth=7, max_features=log2, max_samples=0.9, n_estimators=100; total time=   2.6s\n",
            "[CV] END criterion=squared_error, max_depth=7, max_features=log2, max_samples=0.9, n_estimators=100; total time=   2.6s\n",
            "[CV] END criterion=poisson, max_depth=3, max_features=sqrt, max_samples=0.7, n_estimators=50; total time=   0.0s\n",
            "[CV] END criterion=poisson, max_depth=3, max_features=sqrt, max_samples=0.7, n_estimators=50; total time=   0.9s\n",
            "[CV] END criterion=poisson, max_depth=3, max_features=sqrt, max_samples=0.7, n_estimators=200; total time=   0.0s\n",
            "[CV] END criterion=poisson, max_depth=3, max_features=sqrt, max_samples=0.7, n_estimators=200; total time=   3.5s\n",
            "[CV] END criterion=poisson, max_depth=3, max_features=sqrt, max_samples=0.7, n_estimators=100; total time=   0.0s\n",
            "[CV] END criterion=poisson, max_depth=3, max_features=sqrt, max_samples=0.7, n_estimators=100; total time=   1.8s\n",
            "[CV] END criterion=poisson, max_depth=3, max_features=sqrt, max_samples=0.8, n_estimators=50; total time=   0.0s\n",
            "[CV] END criterion=poisson, max_depth=3, max_features=sqrt, max_samples=0.8, n_estimators=50; total time=   0.9s\n",
            "[CV] END criterion=poisson, max_depth=3, max_features=sqrt, max_samples=0.8, n_estimators=200; total time=   0.0s\n",
            "[CV] END criterion=poisson, max_depth=3, max_features=sqrt, max_samples=0.8, n_estimators=200; total time=   3.7s\n",
            "[CV] END criterion=poisson, max_depth=3, max_features=sqrt, max_samples=0.8, n_estimators=100; total time=   0.0s\n",
            "[CV] END criterion=poisson, max_depth=3, max_features=sqrt, max_samples=0.8, n_estimators=100; total time=   1.9s\n",
            "[CV] END criterion=poisson, max_depth=3, max_features=sqrt, max_samples=0.9, n_estimators=50; total time=   0.0s\n",
            "[CV] END criterion=poisson, max_depth=3, max_features=sqrt, max_samples=0.9, n_estimators=50; total time=   1.0s\n",
            "[CV] END criterion=poisson, max_depth=3, max_features=sqrt, max_samples=0.9, n_estimators=200; total time=   0.0s\n",
            "[CV] END criterion=poisson, max_depth=3, max_features=sqrt, max_samples=0.9, n_estimators=200; total time=   3.9s\n",
            "[CV] END criterion=poisson, max_depth=3, max_features=sqrt, max_samples=0.9, n_estimators=100; total time=   0.0s\n",
            "[CV] END criterion=poisson, max_depth=3, max_features=sqrt, max_samples=0.9, n_estimators=100; total time=   1.9s\n",
            "[CV] END criterion=poisson, max_depth=3, max_features=log2, max_samples=0.7, n_estimators=50; total time=   0.0s\n",
            "[CV] END criterion=poisson, max_depth=3, max_features=log2, max_samples=0.7, n_estimators=50; total time=   0.9s\n",
            "[CV] END criterion=poisson, max_depth=3, max_features=log2, max_samples=0.7, n_estimators=200; total time=   0.0s\n",
            "[CV] END criterion=poisson, max_depth=3, max_features=log2, max_samples=0.7, n_estimators=200; total time=   3.5s\n",
            "[CV] END criterion=poisson, max_depth=3, max_features=log2, max_samples=0.7, n_estimators=100; total time=   0.0s\n",
            "[CV] END criterion=poisson, max_depth=3, max_features=log2, max_samples=0.7, n_estimators=100; total time=   1.8s\n",
            "[CV] END criterion=poisson, max_depth=3, max_features=log2, max_samples=0.8, n_estimators=50; total time=   0.0s\n",
            "[CV] END criterion=poisson, max_depth=3, max_features=log2, max_samples=0.8, n_estimators=50; total time=   1.0s\n",
            "[CV] END criterion=poisson, max_depth=3, max_features=log2, max_samples=0.8, n_estimators=200; total time=   0.0s\n",
            "[CV] END criterion=poisson, max_depth=3, max_features=log2, max_samples=0.8, n_estimators=200; total time=   3.7s\n",
            "[CV] END criterion=poisson, max_depth=3, max_features=log2, max_samples=0.8, n_estimators=100; total time=   0.0s\n",
            "[CV] END criterion=poisson, max_depth=3, max_features=log2, max_samples=0.8, n_estimators=100; total time=   1.9s\n",
            "[CV] END criterion=poisson, max_depth=3, max_features=log2, max_samples=0.9, n_estimators=50; total time=   0.0s\n",
            "[CV] END criterion=poisson, max_depth=3, max_features=log2, max_samples=0.9, n_estimators=50; total time=   1.0s\n",
            "[CV] END criterion=poisson, max_depth=3, max_features=log2, max_samples=0.9, n_estimators=200; total time=   0.0s\n",
            "[CV] END criterion=poisson, max_depth=3, max_features=log2, max_samples=0.9, n_estimators=200; total time=   3.8s\n",
            "[CV] END criterion=poisson, max_depth=3, max_features=log2, max_samples=0.9, n_estimators=100; total time=   0.0s\n",
            "[CV] END criterion=poisson, max_depth=3, max_features=log2, max_samples=0.9, n_estimators=100; total time=   1.9s\n",
            "[CV] END criterion=poisson, max_depth=5, max_features=sqrt, max_samples=0.7, n_estimators=50; total time=   0.0s\n",
            "[CV] END criterion=poisson, max_depth=5, max_features=sqrt, max_samples=0.7, n_estimators=50; total time=   1.2s\n",
            "[CV] END criterion=poisson, max_depth=5, max_features=sqrt, max_samples=0.7, n_estimators=200; total time=   0.0s\n",
            "[CV] END criterion=poisson, max_depth=5, max_features=sqrt, max_samples=0.7, n_estimators=200; total time=   4.9s\n",
            "[CV] END criterion=poisson, max_depth=5, max_features=sqrt, max_samples=0.7, n_estimators=100; total time=   0.0s\n",
            "[CV] END criterion=poisson, max_depth=5, max_features=sqrt, max_samples=0.7, n_estimators=100; total time=   2.5s\n",
            "[CV] END criterion=poisson, max_depth=5, max_features=sqrt, max_samples=0.8, n_estimators=50; total time=   0.0s\n",
            "[CV] END criterion=poisson, max_depth=5, max_features=sqrt, max_samples=0.8, n_estimators=50; total time=   1.3s\n",
            "[CV] END criterion=poisson, max_depth=5, max_features=sqrt, max_samples=0.8, n_estimators=200; total time=   0.0s\n",
            "[CV] END criterion=poisson, max_depth=5, max_features=sqrt, max_samples=0.8, n_estimators=200; total time=   5.1s\n",
            "[CV] END criterion=poisson, max_depth=5, max_features=sqrt, max_samples=0.8, n_estimators=100; total time=   0.0s\n",
            "[CV] END criterion=poisson, max_depth=5, max_features=sqrt, max_samples=0.8, n_estimators=100; total time=   2.6s\n",
            "[CV] END criterion=poisson, max_depth=5, max_features=sqrt, max_samples=0.9, n_estimators=50; total time=   0.0s\n",
            "[CV] END criterion=poisson, max_depth=5, max_features=sqrt, max_samples=0.9, n_estimators=50; total time=   1.4s\n",
            "[CV] END criterion=poisson, max_depth=5, max_features=sqrt, max_samples=0.9, n_estimators=200; total time=   0.0s\n",
            "[CV] END criterion=poisson, max_depth=5, max_features=sqrt, max_samples=0.9, n_estimators=200; total time=   5.4s\n",
            "[CV] END criterion=poisson, max_depth=5, max_features=sqrt, max_samples=0.9, n_estimators=100; total time=   0.0s\n",
            "[CV] END criterion=poisson, max_depth=5, max_features=sqrt, max_samples=0.9, n_estimators=100; total time=   2.7s\n",
            "[CV] END criterion=poisson, max_depth=5, max_features=log2, max_samples=0.7, n_estimators=50; total time=   0.0s\n",
            "[CV] END criterion=poisson, max_depth=5, max_features=log2, max_samples=0.7, n_estimators=50; total time=   1.3s\n",
            "[CV] END criterion=poisson, max_depth=5, max_features=log2, max_samples=0.7, n_estimators=200; total time=   0.0s\n",
            "[CV] END criterion=poisson, max_depth=5, max_features=log2, max_samples=0.7, n_estimators=200; total time=   4.9s\n",
            "[CV] END criterion=poisson, max_depth=5, max_features=log2, max_samples=0.7, n_estimators=100; total time=   0.0s\n",
            "[CV] END criterion=poisson, max_depth=5, max_features=log2, max_samples=0.7, n_estimators=100; total time=   2.5s\n",
            "[CV] END criterion=poisson, max_depth=5, max_features=log2, max_samples=0.8, n_estimators=50; total time=   0.0s\n",
            "[CV] END criterion=poisson, max_depth=5, max_features=log2, max_samples=0.8, n_estimators=50; total time=   1.3s\n",
            "[CV] END criterion=poisson, max_depth=5, max_features=log2, max_samples=0.8, n_estimators=200; total time=   0.0s\n",
            "[CV] END criterion=poisson, max_depth=5, max_features=log2, max_samples=0.8, n_estimators=200; total time=   5.2s\n",
            "[CV] END criterion=poisson, max_depth=5, max_features=log2, max_samples=0.8, n_estimators=100; total time=   0.0s\n",
            "[CV] END criterion=poisson, max_depth=5, max_features=log2, max_samples=0.8, n_estimators=100; total time=   2.6s\n",
            "[CV] END criterion=poisson, max_depth=5, max_features=log2, max_samples=0.9, n_estimators=50; total time=   0.0s\n",
            "[CV] END criterion=poisson, max_depth=5, max_features=log2, max_samples=0.9, n_estimators=50; total time=   1.4s\n",
            "[CV] END criterion=poisson, max_depth=5, max_features=log2, max_samples=0.9, n_estimators=200; total time=   0.0s\n",
            "[CV] END criterion=poisson, max_depth=5, max_features=log2, max_samples=0.9, n_estimators=200; total time=   5.5s\n",
            "[CV] END criterion=poisson, max_depth=5, max_features=log2, max_samples=0.9, n_estimators=100; total time=   0.0s\n",
            "[CV] END criterion=poisson, max_depth=5, max_features=log2, max_samples=0.9, n_estimators=100; total time=   2.7s\n",
            "[CV] END criterion=poisson, max_depth=7, max_features=sqrt, max_samples=0.7, n_estimators=50; total time=   0.0s\n",
            "[CV] END criterion=poisson, max_depth=7, max_features=sqrt, max_samples=0.7, n_estimators=50; total time=   1.6s\n",
            "[CV] END criterion=poisson, max_depth=7, max_features=sqrt, max_samples=0.7, n_estimators=200; total time=   0.0s\n",
            "[CV] END criterion=poisson, max_depth=7, max_features=sqrt, max_samples=0.7, n_estimators=200; total time=   6.3s\n",
            "[CV] END criterion=poisson, max_depth=7, max_features=sqrt, max_samples=0.7, n_estimators=100; total time=   0.0s\n",
            "[CV] END criterion=poisson, max_depth=7, max_features=sqrt, max_samples=0.7, n_estimators=100; total time=   3.2s\n",
            "[CV] END criterion=poisson, max_depth=7, max_features=sqrt, max_samples=0.8, n_estimators=50; total time=   0.0s\n",
            "[CV] END criterion=poisson, max_depth=7, max_features=sqrt, max_samples=0.8, n_estimators=50; total time=   1.7s\n",
            "[CV] END criterion=poisson, max_depth=7, max_features=sqrt, max_samples=0.8, n_estimators=200; total time=   0.0s\n",
            "[CV] END criterion=poisson, max_depth=7, max_features=sqrt, max_samples=0.8, n_estimators=200; total time=   6.7s\n",
            "[CV] END criterion=poisson, max_depth=7, max_features=sqrt, max_samples=0.8, n_estimators=100; total time=   0.0s\n",
            "[CV] END criterion=poisson, max_depth=7, max_features=sqrt, max_samples=0.8, n_estimators=100; total time=   3.3s\n",
            "[CV] END criterion=poisson, max_depth=7, max_features=sqrt, max_samples=0.9, n_estimators=50; total time=   0.0s\n",
            "[CV] END criterion=poisson, max_depth=7, max_features=sqrt, max_samples=0.9, n_estimators=50; total time=   1.8s\n",
            "[CV] END criterion=poisson, max_depth=7, max_features=sqrt, max_samples=0.9, n_estimators=200; total time=   0.0s\n",
            "[CV] END criterion=poisson, max_depth=7, max_features=sqrt, max_samples=0.9, n_estimators=200; total time=   7.0s\n",
            "[CV] END criterion=poisson, max_depth=7, max_features=sqrt, max_samples=0.9, n_estimators=100; total time=   0.0s\n",
            "[CV] END criterion=poisson, max_depth=7, max_features=sqrt, max_samples=0.9, n_estimators=100; total time=   3.5s\n",
            "[CV] END criterion=poisson, max_depth=7, max_features=log2, max_samples=0.7, n_estimators=50; total time=   0.0s\n",
            "[CV] END criterion=poisson, max_depth=7, max_features=log2, max_samples=0.7, n_estimators=50; total time=   1.6s\n",
            "[CV] END criterion=poisson, max_depth=7, max_features=log2, max_samples=0.7, n_estimators=200; total time=   0.0s\n",
            "[CV] END criterion=poisson, max_depth=7, max_features=log2, max_samples=0.7, n_estimators=200; total time=   6.3s\n",
            "[CV] END criterion=poisson, max_depth=7, max_features=log2, max_samples=0.7, n_estimators=100; total time=   0.0s\n",
            "[CV] END criterion=poisson, max_depth=7, max_features=log2, max_samples=0.7, n_estimators=100; total time=   3.2s\n",
            "[CV] END criterion=poisson, max_depth=7, max_features=log2, max_samples=0.8, n_estimators=50; total time=   0.0s\n",
            "[CV] END criterion=poisson, max_depth=7, max_features=log2, max_samples=0.8, n_estimators=50; total time=   1.7s\n",
            "[CV] END criterion=poisson, max_depth=7, max_features=log2, max_samples=0.8, n_estimators=200; total time=   0.0s\n",
            "[CV] END criterion=poisson, max_depth=7, max_features=log2, max_samples=0.8, n_estimators=200; total time=   6.7s\n",
            "[CV] END criterion=poisson, max_depth=7, max_features=log2, max_samples=0.8, n_estimators=100; total time=   0.0s\n",
            "[CV] END criterion=poisson, max_depth=7, max_features=log2, max_samples=0.8, n_estimators=100; total time=   3.4s\n",
            "[CV] END criterion=poisson, max_depth=7, max_features=log2, max_samples=0.9, n_estimators=50; total time=   0.0s\n",
            "[CV] END criterion=poisson, max_depth=7, max_features=log2, max_samples=0.9, n_estimators=50; total time=   1.8s\n",
            "[CV] END criterion=poisson, max_depth=7, max_features=log2, max_samples=0.9, n_estimators=200; total time=   0.0s\n",
            "[CV] END criterion=poisson, max_depth=7, max_features=log2, max_samples=0.9, n_estimators=200; total time=   7.0s\n",
            "[CV] END criterion=poisson, max_depth=7, max_features=log2, max_samples=0.9, n_estimators=100; total time=   0.0s\n",
            "[CV] END criterion=poisson, max_depth=7, max_features=log2, max_samples=0.9, n_estimators=100; total time=   3.5s\n"
          ]
        },
        {
          "output_type": "execute_result",
          "data": {
            "text/plain": [
              "GridSearchCV(cv=2, estimator=RandomForestRegressor(oob_score=True),\n",
              "             param_grid={'criterion': ['squared_error', 'poisson'],\n",
              "                         'max_depth': [3, 5, 7],\n",
              "                         'max_features': ['sqrt', 'log2'],\n",
              "                         'max_samples': [0.7, 0.8, 0.9],\n",
              "                         'n_estimators': [50, 200, 100]},\n",
              "             verbose=2)"
            ]
          },
          "metadata": {},
          "execution_count": 21
        }
      ],
      "source": [
        "gscv.fit(X_train,Y_train)"
      ]
    },
    {
      "cell_type": "code",
      "execution_count": null,
      "metadata": {
        "colab": {
          "base_uri": "https://localhost:8080/"
        },
        "id": "q0_fRTQAjTKH",
        "outputId": "f0e91d0d-2364-4c84-9347-03c274efc61e"
      },
      "outputs": [
        {
          "output_type": "execute_result",
          "data": {
            "text/plain": [
              "RandomForestRegressor(max_depth=5, n_estimators=50, oob_score=True,\n",
              "                      random_state=7)"
            ]
          },
          "metadata": {},
          "execution_count": 15
        }
      ],
      "source": [
        "rf = RandomForestRegressor(n_estimators=50,max_depth=5, oob_score=True,random_state=7)\n",
        "rf.fit(X_train,Y_train)"
      ]
    },
    {
      "cell_type": "code",
      "execution_count": null,
      "metadata": {
        "colab": {
          "base_uri": "https://localhost:8080/"
        },
        "id": "yxQ7p91NjUBZ",
        "outputId": "562c3b04-8ca2-4a6b-e9cc-b29190dffe4e"
      },
      "outputs": [
        {
          "output_type": "execute_result",
          "data": {
            "text/plain": [
              "array([58082.68910606, 34180.2055271 , 54992.07314899, ...,\n",
              "       46493.30369221, 83293.50511107, 50221.26494578])"
            ]
          },
          "metadata": {},
          "execution_count": 16
        }
      ],
      "source": [
        "Y_pred_rf = rf.predict(X_test)\n",
        "Y_pred_rf"
      ]
    },
    {
      "cell_type": "markdown",
      "metadata": {
        "id": "8bXgQwymjeZx"
      },
      "source": [
        "Apply XGBoost (from SKlearn) Grid Search"
      ]
    },
    {
      "cell_type": "code",
      "execution_count": null,
      "metadata": {
        "id": "S-RlTMMrjZP3"
      },
      "outputs": [],
      "source": [
        "from sklearn.model_selection import GridSearchCV"
      ]
    },
    {
      "cell_type": "code",
      "execution_count": null,
      "metadata": {
        "id": "H1_xo7-DjiGm"
      },
      "outputs": [],
      "source": [
        "param_grid = {\n",
        "'n_estimators' : [ 50, 200],\n",
        "'criterion' : ['squared_error','poisson'],\n",
        "'subsample' : [0.7, 0.8],\n",
        "'max_depth' :[ 5,7]\n",
        "}"
      ]
    },
    {
      "cell_type": "code",
      "execution_count": null,
      "metadata": {
        "id": "UVhm-Newjlwg"
      },
      "outputs": [],
      "source": [
        "from sklearn.ensemble import GradientBoostingRegressor"
      ]
    },
    {
      "cell_type": "code",
      "execution_count": null,
      "metadata": {
        "id": "zlGosg03jpYf"
      },
      "outputs": [],
      "source": [
        "gscv =GridSearchCV(estimator = GradientBoostingRegressor(), param_grid = param_grid, cv=2, verbose=2)"
      ]
    },
    {
      "cell_type": "code",
      "execution_count": null,
      "metadata": {
        "colab": {
          "base_uri": "https://localhost:8080/"
        },
        "id": "FeBxTC0MjtA0",
        "outputId": "5802a58c-1f8c-4366-c407-f97f52cc2969"
      },
      "outputs": [
        {
          "output_type": "stream",
          "name": "stdout",
          "text": [
            "Fitting 2 folds for each of 16 candidates, totalling 32 fits\n",
            "[CV] END criterion=squared_error, max_depth=5, n_estimators=50, subsample=0.7; total time=   2.1s\n",
            "[CV] END criterion=squared_error, max_depth=5, n_estimators=50, subsample=0.7; total time=   2.1s\n",
            "[CV] END criterion=squared_error, max_depth=5, n_estimators=50, subsample=0.8; total time=   2.3s\n",
            "[CV] END criterion=squared_error, max_depth=5, n_estimators=50, subsample=0.8; total time=   2.3s\n",
            "[CV] END criterion=squared_error, max_depth=5, n_estimators=200, subsample=0.7; total time=   8.3s\n",
            "[CV] END criterion=squared_error, max_depth=5, n_estimators=200, subsample=0.7; total time=   8.3s\n",
            "[CV] END criterion=squared_error, max_depth=5, n_estimators=200, subsample=0.8; total time=   9.0s\n",
            "[CV] END criterion=squared_error, max_depth=5, n_estimators=200, subsample=0.8; total time=   9.0s\n",
            "[CV] END criterion=squared_error, max_depth=7, n_estimators=50, subsample=0.7; total time=   2.7s\n",
            "[CV] END criterion=squared_error, max_depth=7, n_estimators=50, subsample=0.7; total time=   2.7s\n",
            "[CV] END criterion=squared_error, max_depth=7, n_estimators=50, subsample=0.8; total time=   3.0s\n",
            "[CV] END criterion=squared_error, max_depth=7, n_estimators=50, subsample=0.8; total time=   3.0s\n",
            "[CV] END criterion=squared_error, max_depth=7, n_estimators=200, subsample=0.7; total time=  10.9s\n",
            "[CV] END criterion=squared_error, max_depth=7, n_estimators=200, subsample=0.7; total time=  11.0s\n",
            "[CV] END criterion=squared_error, max_depth=7, n_estimators=200, subsample=0.8; total time=  11.9s\n",
            "[CV] END criterion=squared_error, max_depth=7, n_estimators=200, subsample=0.8; total time=  11.9s\n",
            "[CV] END criterion=poisson, max_depth=5, n_estimators=50, subsample=0.7; total time=   1.1s\n",
            "[CV] END criterion=poisson, max_depth=5, n_estimators=50, subsample=0.7; total time=   1.1s\n",
            "[CV] END criterion=poisson, max_depth=5, n_estimators=50, subsample=0.8; total time=   1.2s\n",
            "[CV] END criterion=poisson, max_depth=5, n_estimators=50, subsample=0.8; total time=   1.2s\n",
            "[CV] END criterion=poisson, max_depth=5, n_estimators=200, subsample=0.7; total time=   4.5s\n",
            "[CV] END criterion=poisson, max_depth=5, n_estimators=200, subsample=0.7; total time=   4.7s\n",
            "[CV] END criterion=poisson, max_depth=5, n_estimators=200, subsample=0.8; total time=   4.6s\n",
            "[CV] END criterion=poisson, max_depth=5, n_estimators=200, subsample=0.8; total time=   4.9s\n",
            "[CV] END criterion=poisson, max_depth=7, n_estimators=50, subsample=0.7; total time=   1.1s\n",
            "[CV] END criterion=poisson, max_depth=7, n_estimators=50, subsample=0.7; total time=   1.3s\n",
            "[CV] END criterion=poisson, max_depth=7, n_estimators=50, subsample=0.8; total time=   1.2s\n",
            "[CV] END criterion=poisson, max_depth=7, n_estimators=50, subsample=0.8; total time=   1.1s\n",
            "[CV] END criterion=poisson, max_depth=7, n_estimators=200, subsample=0.7; total time=   4.5s\n",
            "[CV] END criterion=poisson, max_depth=7, n_estimators=200, subsample=0.7; total time=   4.6s\n",
            "[CV] END criterion=poisson, max_depth=7, n_estimators=200, subsample=0.8; total time=   4.5s\n",
            "[CV] END criterion=poisson, max_depth=7, n_estimators=200, subsample=0.8; total time=   4.6s\n"
          ]
        },
        {
          "output_type": "execute_result",
          "data": {
            "text/plain": [
              "GridSearchCV(cv=2, estimator=GradientBoostingRegressor(),\n",
              "             param_grid={'criterion': ['squared_error', 'poisson'],\n",
              "                         'max_depth': [5, 7], 'n_estimators': [50, 200],\n",
              "                         'subsample': [0.7, 0.8]},\n",
              "             verbose=2)"
            ]
          },
          "metadata": {},
          "execution_count": 21
        }
      ],
      "source": [
        "gscv.fit(X_train,Y_train)"
      ]
    },
    {
      "cell_type": "code",
      "execution_count": null,
      "metadata": {
        "colab": {
          "base_uri": "https://localhost:8080/"
        },
        "id": "l_tEi3G9jxzF",
        "outputId": "e05f7714-f5bb-44d4-ad24-66be8c2876de"
      },
      "outputs": [
        {
          "output_type": "execute_result",
          "data": {
            "text/plain": [
              "GradientBoostingRegressor(max_depth=5, n_estimators=50, random_state=7,\n",
              "                          subsample=0.8)"
            ]
          },
          "metadata": {},
          "execution_count": 22
        }
      ],
      "source": [
        "gbr = GradientBoostingRegressor(max_depth= 5, n_estimators= 50, subsample= 0.8,random_state=7)\n",
        "gbr.fit(X_train,Y_train)"
      ]
    },
    {
      "cell_type": "code",
      "execution_count": null,
      "metadata": {
        "id": "Q25M-64tkoLL"
      },
      "outputs": [],
      "source": [
        "Y_pred_gbr = gbr.predict(X_test)"
      ]
    },
    {
      "cell_type": "markdown",
      "metadata": {
        "id": "0yH41qfykvhH"
      },
      "source": [
        "Compare the models\n",
        "Compare the mse, mae, r2 score\n",
        "compare the plots"
      ]
    },
    {
      "cell_type": "code",
      "execution_count": null,
      "metadata": {
        "colab": {
          "base_uri": "https://localhost:8080/"
        },
        "id": "jPxGRlOFkrbM",
        "outputId": "ac0fe3ea-320d-401f-d9af-5ed2937f38e4"
      },
      "outputs": [
        {
          "output_type": "stream",
          "name": "stdout",
          "text": [
            "r2 score =  0.32098203264575276 mse =  359822874908.0592  mae = 134645.50743247944\n"
          ]
        }
      ],
      "source": [
        "# 1 compare mse, mae and r2 score\n",
        "r2, mse, mae = eval_fun(Y_test,Y_pred_rf) \n",
        "print(\"r2 score = \", r2, \"mse = \", mse, \" mae =\", mae)"
      ]
    },
    {
      "cell_type": "code",
      "execution_count": null,
      "metadata": {
        "colab": {
          "base_uri": "https://localhost:8080/"
        },
        "id": "chOcUMnlk1Fv",
        "outputId": "1082d95d-6801-49ba-ada8-a785ef576e6d"
      },
      "outputs": [
        {
          "output_type": "stream",
          "name": "stdout",
          "text": [
            "r2 score =  0.535600119933803 mse =  246093193385.55746  mae = 116692.48623546824\n"
          ]
        }
      ],
      "source": [
        "r2, mse, mae = eval_fun(Y_test,Y_pred_gbr) \n",
        "print(\"r2 score = \", r2, \"mse = \", mse, \" mae =\", mae)"
      ]
    },
    {
      "cell_type": "markdown",
      "metadata": {
        "id": "8f3T1Mu2lBQo"
      },
      "source": [
        "Plot the results of regression and compare"
      ]
    },
    {
      "cell_type": "code",
      "execution_count": null,
      "metadata": {
        "colab": {
          "base_uri": "https://localhost:8080/"
        },
        "id": "dfDZ9EIxk6ih",
        "outputId": "6f2f1030-9a2a-41c2-8533-576a8cea91fa"
      },
      "outputs": [
        {
          "output_type": "execute_result",
          "data": {
            "text/plain": [
              "(43965, 3)"
            ]
          },
          "metadata": {},
          "execution_count": 42
        }
      ],
      "source": [
        "res = pd.DataFrame([Y_test.values, Y_pred_rf, Y_pred_gbr]).T\n",
        "res.columns = ['Y_test', 'Y_pred_rf', 'Y_pred_gbr',]\n",
        "res.shape"
      ]
    },
    {
      "cell_type": "code",
      "execution_count": null,
      "metadata": {
        "colab": {
          "base_uri": "https://localhost:8080/",
          "height": 293
        },
        "id": "_gtruCQXlEVm",
        "outputId": "274c61b5-38a8-480c-a838-8805b57dcbb9"
      },
      "outputs": [
        {
          "output_type": "execute_result",
          "data": {
            "text/plain": [
              "<matplotlib.axes._subplots.AxesSubplot at 0x7f7bbed17590>"
            ]
          },
          "metadata": {},
          "execution_count": 27
        },
        {
          "output_type": "display_data",
          "data": {
            "text/plain": [
              "<Figure size 432x288 with 1 Axes>"
            ],
            "image/png": "[encoded data removed]"
          },
          "metadata": {}
        }
      ],
      "source": [
        "res.plot()"
      ]
    },
    {
      "cell_type": "code",
      "execution_count": null,
      "metadata": {
        "colab": {
          "base_uri": "https://localhost:8080/",
          "height": 293
        },
        "id": "ahcJOfJtlJ4T",
        "outputId": "c07599f1-cfe5-4c07-a7d2-745b23511ea9"
      },
      "outputs": [
        {
          "output_type": "execute_result",
          "data": {
            "text/plain": [
              "<matplotlib.axes._subplots.AxesSubplot at 0x7f7bbf856850>"
            ]
          },
          "metadata": {},
          "execution_count": 28
        },
        {
          "output_type": "display_data",
          "data": {
            "text/plain": [
              "<Figure size 432x288 with 1 Axes>"
            ],
            "image/png": "[encoded data removed]"
          },
          "metadata": {}
        }
      ],
      "source": [
        "res[['Y_test', 'Y_pred_rf']].plot()"
      ]
    },
    {
      "cell_type": "code",
      "execution_count": null,
      "metadata": {
        "id": "a7rz07wKlQZc",
        "colab": {
          "base_uri": "https://localhost:8080/",
          "height": 293
        },
        "outputId": "b991d0e0-1aab-4396-8423-aa676b4d2603"
      },
      "outputs": [
        {
          "output_type": "execute_result",
          "data": {
            "text/plain": [
              "<matplotlib.axes._subplots.AxesSubplot at 0x7f7bbed20c10>"
            ]
          },
          "metadata": {},
          "execution_count": 29
        },
        {
          "output_type": "display_data",
          "data": {
            "text/plain": [
              "<Figure size 432x288 with 1 Axes>"
            ],
            "image/png": "[encoded data removed]"
          },
          "metadata": {}
        }
      ],
      "source": [
        "res[['Y_test', 'Y_pred_gbr']].plot()"
      ]
    },
    {
      "cell_type": "code",
      "execution_count": null,
      "metadata": {
        "id": "mvqKCPefjoAI",
        "colab": {
          "base_uri": "https://localhost:8080/"
        },
        "outputId": "38f7ef95-5b8c-4464-aa73-61936e4e5aab"
      },
      "outputs": [
        {
          "output_type": "execute_result",
          "data": {
            "text/plain": [
              "LinearRegression()"
            ]
          },
          "metadata": {},
          "execution_count": 30
        }
      ],
      "source": [
        "from sklearn.linear_model import LinearRegression  \n",
        "regressor= LinearRegression()  \n",
        "regressor.fit(X_train, Y_train)"
      ]
    },
    {
      "cell_type": "code",
      "execution_count": null,
      "metadata": {
        "id": "aCT2RUV4j9Uc"
      },
      "outputs": [],
      "source": [
        "y_pred= regressor.predict(X_test)  "
      ]
    },
    {
      "cell_type": "code",
      "execution_count": null,
      "metadata": {
        "id": "-nP-GmC6lVf_",
        "colab": {
          "base_uri": "https://localhost:8080/"
        },
        "outputId": "557ddd5c-c85a-4b9e-e89f-a43e6922e8f3"
      },
      "outputs": [
        {
          "output_type": "stream",
          "name": "stdout",
          "text": [
            "Train Score:  0.008120415465623032\n",
            "Test Score:  0.007791157778441193\n"
          ]
        }
      ],
      "source": [
        "print('Train Score: ', regressor.score(X_train, Y_train))  \n",
        "print('Test Score: ', regressor.score(X_test, Y_test))  "
      ]
    },
    {
      "cell_type": "code",
      "execution_count": null,
      "metadata": {
        "id": "cPvOChjAjSbQ"
      },
      "outputs": [],
      "source": [
        "y=rf.predict(X_test)"
      ]
    },
    {
      "cell_type": "code",
      "source": [
        "#Linear REgression(lr_model)\n",
        "from sklearn import linear_model\n",
        "from sklearn.tree import DecisionTreeRegressor\n",
        "from sklearn.metrics import mean_squared_error,mean_absolute_error\n",
        "lr_model = linear_model.LinearRegression()\n",
        "lr_model.fit(X_train,Y_train)\n",
        "y_pred_lr = lr_model.predict(X_test)\n",
        "#r2,mse,mae for lr model\n",
        "r2,mse,mae = eval_fun(Y_test,y_pred_lr)\n",
        "print(\"r2 score: \",r2,\"mean_squared_error: \",mse,\"mean_absolute_error: \",mae)"
      ],
      "metadata": {
        "colab": {
          "base_uri": "https://localhost:8080/"
        },
        "id": "7hjQVfj1067w",
        "outputId": "9b5fcf9d-e661-49c8-cd46-ed4ccc369d04"
      },
      "execution_count": null,
      "outputs": [
        {
          "output_type": "stream",
          "name": "stdout",
          "text": [
            "r2 score:  0.007791157778441193 mean_squared_error:  525787910308.85834 mean_absolute_error:  160883.0405366872\n"
          ]
        }
      ]
    },
    {
      "cell_type": "code",
      "execution_count": null,
      "metadata": {
        "id": "1EJIq9MG3b9Z",
        "colab": {
          "base_uri": "https://localhost:8080/"
        },
        "outputId": "0ba8f056-7599-4ca0-eb49-d5ecadb3c391"
      },
      "outputs": [
        {
          "output_type": "stream",
          "name": "stdout",
          "text": [
            "r2 score:  0.8385377811278403 mean_squared_error:  85561505846.435 mean_absolute_error:  28676.72092914818\n"
          ]
        }
      ],
      "source": [
        "##Decsion Tree(tree)\n",
        "tree = DecisionTreeRegressor()\n",
        "tree.fit(X_train,Y_train)\n",
        "y_pred_tree = tree.predict(X_test)\n",
        "\n",
        "#r2,mse,mae for dt model\n",
        "r2,mse,mae = eval_fun(Y_test,y_pred_tree)\n",
        "print(\"r2 score: \",r2,\"mean_squared_error: \",mse,\"mean_absolute_error: \",mae)"
      ]
    },
    {
      "cell_type": "code",
      "source": [
        "y_pred_tree = tree.predict(X_test)\n",
        "y_pred_tree"
      ],
      "metadata": {
        "colab": {
          "base_uri": "https://localhost:8080/"
        },
        "id": "WnSG6oMi3nJW",
        "outputId": "e86b7b8e-e5c6-4863-b545-0edbbb9bb6bb"
      },
      "execution_count": null,
      "outputs": [
        {
          "output_type": "execute_result",
          "data": {
            "text/plain": [
              "array([5.4971847e+05, 8.2908710e+04, 1.3740000e+02, ..., 1.2902100e+03,\n",
              "       3.8910000e+01, 3.0301000e+02])"
            ]
          },
          "metadata": {},
          "execution_count": 38
        }
      ]
    },
    {
      "cell_type": "code",
      "source": [
        "X_test"
      ],
      "metadata": {
        "colab": {
          "base_uri": "https://localhost:8080/",
          "height": 424
        },
        "id": "HBEDU_D43qlO",
        "outputId": "5ae2a649-e543-4114-9a5a-7b7fda678c7e"
      },
      "execution_count": null,
      "outputs": [
        {
          "output_type": "execute_result",
          "data": {
            "text/plain": [
              "        Area_code  Item_code  Element_code  Year_code  Year\n",
              "145666        272       4012          5610       2017  2017\n",
              "81706         138       4024          5622       2016  2016\n",
              "94045         166       4007          5610       2015  2015\n",
              "123093        217       4003          5157       2006  2006\n",
              "141486        249       4003          5622       2011  2011\n",
              "...           ...        ...           ...        ...   ...\n",
              "50049          97       4022          5622       2004  2004\n",
              "104050        183       4012          5610       2002  2002\n",
              "142746        255       4018          5922       2011  2011\n",
              "65811         110       4023          5910       2017  2017\n",
              "115554        206       4023          5622       2005  2005\n",
              "\n",
              "[43965 rows x 5 columns]"
            ],
            "text/html": [
              "\n",
              "  <div id=\"df-02163258-e89f-45e6-a889-999af6adbff0\">\n",
              "    <div class=\"colab-df-container\">\n",
              "      <div>\n",
              "<style scoped>\n",
              "    .dataframe tbody tr th:only-of-type {\n",
              "        vertical-align: middle;\n",
              "    }\n",
              "\n",
              "    .dataframe tbody tr th {\n",
              "        vertical-align: top;\n",
              "    }\n",
              "\n",
              "    .dataframe thead th {\n",
              "        text-align: right;\n",
              "    }\n",
              "</style>\n",
              "<table border=\"1\" class=\"dataframe\">\n",
              "  <thead>\n",
              "    <tr style=\"text-align: right;\">\n",
              "      <th></th>\n",
              "      <th>Area_code</th>\n",
              "      <th>Item_code</th>\n",
              "      <th>Element_code</th>\n",
              "      <th>Year_code</th>\n",
              "      <th>Year</th>\n",
              "    </tr>\n",
              "  </thead>\n",
              "  <tbody>\n",
              "    <tr>\n",
              "      <th>145666</th>\n",
              "      <td>272</td>\n",
              "      <td>4012</td>\n",
              "      <td>5610</td>\n",
              "      <td>2017</td>\n",
              "      <td>2017</td>\n",
              "    </tr>\n",
              "    <tr>\n",
              "      <th>81706</th>\n",
              "      <td>138</td>\n",
              "      <td>4024</td>\n",
              "      <td>5622</td>\n",
              "      <td>2016</td>\n",
              "      <td>2016</td>\n",
              "    </tr>\n",
              "    <tr>\n",
              "      <th>94045</th>\n",
              "      <td>166</td>\n",
              "      <td>4007</td>\n",
              "      <td>5610</td>\n",
              "      <td>2015</td>\n",
              "      <td>2015</td>\n",
              "    </tr>\n",
              "    <tr>\n",
              "      <th>123093</th>\n",
              "      <td>217</td>\n",
              "      <td>4003</td>\n",
              "      <td>5157</td>\n",
              "      <td>2006</td>\n",
              "      <td>2006</td>\n",
              "    </tr>\n",
              "    <tr>\n",
              "      <th>141486</th>\n",
              "      <td>249</td>\n",
              "      <td>4003</td>\n",
              "      <td>5622</td>\n",
              "      <td>2011</td>\n",
              "      <td>2011</td>\n",
              "    </tr>\n",
              "    <tr>\n",
              "      <th>...</th>\n",
              "      <td>...</td>\n",
              "      <td>...</td>\n",
              "      <td>...</td>\n",
              "      <td>...</td>\n",
              "      <td>...</td>\n",
              "    </tr>\n",
              "    <tr>\n",
              "      <th>50049</th>\n",
              "      <td>97</td>\n",
              "      <td>4022</td>\n",
              "      <td>5622</td>\n",
              "      <td>2004</td>\n",
              "      <td>2004</td>\n",
              "    </tr>\n",
              "    <tr>\n",
              "      <th>104050</th>\n",
              "      <td>183</td>\n",
              "      <td>4012</td>\n",
              "      <td>5610</td>\n",
              "      <td>2002</td>\n",
              "      <td>2002</td>\n",
              "    </tr>\n",
              "    <tr>\n",
              "      <th>142746</th>\n",
              "      <td>255</td>\n",
              "      <td>4018</td>\n",
              "      <td>5922</td>\n",
              "      <td>2011</td>\n",
              "      <td>2011</td>\n",
              "    </tr>\n",
              "    <tr>\n",
              "      <th>65811</th>\n",
              "      <td>110</td>\n",
              "      <td>4023</td>\n",
              "      <td>5910</td>\n",
              "      <td>2017</td>\n",
              "      <td>2017</td>\n",
              "    </tr>\n",
              "    <tr>\n",
              "      <th>115554</th>\n",
              "      <td>206</td>\n",
              "      <td>4023</td>\n",
              "      <td>5622</td>\n",
              "      <td>2005</td>\n",
              "      <td>2005</td>\n",
              "    </tr>\n",
              "  </tbody>\n",
              "</table>\n",
              "<p>43965 rows × 5 columns</p>\n",
              "</div>\n",
              "      <button class=\"colab-df-convert\" onclick=\"convertToInteractive('df-02163258-e89f-45e6-a889-999af6adbff0')\"\n",
              "              title=\"Convert this dataframe to an interactive table.\"\n",
              "              style=\"display:none;\">\n",
              "        \n",
              "  <svg xmlns=\"http://www.w3.org/2000/svg\" height=\"24px\"viewBox=\"0 0 24 24\"\n",
              "       width=\"24px\">\n",
              "    <path d=\"M0 0h24v24H0V0z\" fill=\"none\"/>\n",
              "    <path d=\"M18.56 5.44l.94 2.06.94-2.06 2.06-.94-2.06-.94-.94-2.06-.94 2.06-2.06.94zm-11 1L8.5 8.5l.94-2.06 2.06-.94-2.06-.94L8.5 2.5l-.94 2.06-2.06.94zm10 10l.94 2.06.94-2.06 2.06-.94-2.06-.94-.94-2.06-.94 2.06-2.06.94z\"/><path d=\"M17.41 7.96l-1.37-1.37c-.4-.4-.92-.59-1.43-.59-.52 0-1.04.2-1.43.59L10.3 9.45l-7.72 7.72c-.78.78-.78 2.05 0 2.83L4 21.41c.39.39.9.59 1.41.59.51 0 1.02-.2 1.41-.59l7.78-7.78 2.81-2.81c.8-.78.8-2.07 0-2.86zM5.41 20L4 18.59l7.72-7.72 1.47 1.35L5.41 20z\"/>\n",
              "  </svg>\n",
              "      </button>\n",
              "      \n",
              "  <style>\n",
              "    .colab-df-container {\n",
              "      display:flex;\n",
              "      flex-wrap:wrap;\n",
              "      gap: 12px;\n",
              "    }\n",
              "\n",
              "    .colab-df-convert {\n",
              "      background-color: #E8F0FE;\n",
              "      border: none;\n",
              "      border-radius: 50%;\n",
              "      cursor: pointer;\n",
              "      display: none;\n",
              "      fill: #1967D2;\n",
              "      height: 32px;\n",
              "      padding: 0 0 0 0;\n",
              "      width: 32px;\n",
              "    }\n",
              "\n",
              "    .colab-df-convert:hover {\n",
              "      background-color: #E2EBFA;\n",
              "      box-shadow: 0px 1px 2px rgba(60, 64, 67, 0.3), 0px 1px 3px 1px rgba(60, 64, 67, 0.15);\n",
              "      fill: #174EA6;\n",
              "    }\n",
              "\n",
              "    [theme=dark] .colab-df-convert {\n",
              "      background-color: #3B4455;\n",
              "      fill: #D2E3FC;\n",
              "    }\n",
              "\n",
              "    [theme=dark] .colab-df-convert:hover {\n",
              "      background-color: #434B5C;\n",
              "      box-shadow: 0px 1px 3px 1px rgba(0, 0, 0, 0.15);\n",
              "      filter: drop-shadow(0px 1px 2px rgba(0, 0, 0, 0.3));\n",
              "      fill: #FFFFFF;\n",
              "    }\n",
              "  </style>\n",
              "\n",
              "      <script>\n",
              "        const buttonEl =\n",
              "          document.querySelector('#df-02163258-e89f-45e6-a889-999af6adbff0 button.colab-df-convert');\n",
              "        buttonEl.style.display =\n",
              "          google.colab.kernel.accessAllowed ? 'block' : 'none';\n",
              "\n",
              "        async function convertToInteractive(key) {\n",
              "          const element = document.querySelector('#df-02163258-e89f-45e6-a889-999af6adbff0');\n",
              "          const dataTable =\n",
              "            await google.colab.kernel.invokeFunction('convertToInteractive',\n",
              "                                                     [key], {});\n",
              "          if (!dataTable) return;\n",
              "\n",
              "          const docLinkHtml = 'Like what you see? Visit the ' +\n",
              "            '<a target=\"_blank\" href=https://colab.research.google.com/notebooks/data_table.ipynb>data table notebook</a>'\n",
              "            + ' to learn more about interactive tables.';\n",
              "          element.innerHTML = '';\n",
              "          dataTable['output_type'] = 'display_data';\n",
              "          await google.colab.output.renderOutput(dataTable, element);\n",
              "          const docLink = document.createElement('div');\n",
              "          docLink.innerHTML = docLinkHtml;\n",
              "          element.appendChild(docLink);\n",
              "        }\n",
              "      </script>\n",
              "    </div>\n",
              "  </div>\n",
              "  "
            ]
          },
          "metadata": {},
          "execution_count": 39
        }
      ]
    },
    {
      "cell_type": "code",
      "source": [],
      "metadata": {
        "id": "Lxgidgnq46uw"
      },
      "execution_count": null,
      "outputs": []
    }
  ],
  "metadata": {
    "colab": {
      "provenance": [],
      "collapsed_sections": []
    },
    "kernelspec": {
      "display_name": "Python 3",
      "name": "python3"
    },
    "language_info": {
      "name": "python"
    }
  },
  "nbformat": 4,
  "nbformat_minor": 0
}