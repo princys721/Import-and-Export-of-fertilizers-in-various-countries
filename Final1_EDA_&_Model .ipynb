{
  "cells": [
    {
      "cell_type": "code",
      "execution_count": 1,
      "metadata": {
        "id": "VT9iQRs5xYdM"
      },
      "outputs": [],
      "source": [
        "import numpy as np \n",
        "import pandas as pd\n",
        "import matplotlib.pyplot as plt\n",
        "import seaborn as sns\n",
        "sns.set_style(\"darkgrid\")"
      ]
    },
    {
      "cell_type": "code",
      "execution_count": 2,
      "metadata": {
        "id": "MLwLC8QUxkSZ"
      },
      "outputs": [],
      "source": [
        "df = pd.read_excel(\"/content/fertilizer.xlsx\")"
      ]
    },
    {
      "cell_type": "code",
      "execution_count": 3,
      "metadata": {
        "colab": {
          "base_uri": "https://localhost:8080/",
          "height": 206
        },
        "id": "1TvvXuD3xkjp",
        "outputId": "72065124-e38e-49f8-ac6b-817e01a86473"
      },
      "outputs": [
        {
          "output_type": "execute_result",
          "data": {
            "text/plain": [
              "   Area_code     Area  Item_code                Item  Element_code  \\\n",
              "0          1  Armenia       4007  Ammonia, anhydrous          5610   \n",
              "1          1  Armenia       4007  Ammonia, anhydrous          5610   \n",
              "2          1  Armenia       4007  Ammonia, anhydrous          5610   \n",
              "3          1  Armenia       4007  Ammonia, anhydrous          5610   \n",
              "4          1  Armenia       4007  Ammonia, anhydrous          5610   \n",
              "\n",
              "           Element  Year_code  Year    Unit   Value Flag  \n",
              "0  Import Quantity       2006  2006  tonnes    0.01   Qm  \n",
              "1  Import Quantity       2007  2007  tonnes   32.88   Qm  \n",
              "2  Import Quantity       2008  2008  tonnes   62.19   Qm  \n",
              "3  Import Quantity       2009  2009  tonnes  119.93   Qm  \n",
              "4  Import Quantity       2010  2010  tonnes   94.17   Qm  "
            ],
            "text/html": [
              "\n",
              "  <div id=\"df-5d294d16-3728-465b-bbca-6cdcacaf36bc\">\n",
              "    <div class=\"colab-df-container\">\n",
              "      <div>\n",
              "<style scoped>\n",
              "    .dataframe tbody tr th:only-of-type {\n",
              "        vertical-align: middle;\n",
              "    }\n",
              "\n",
              "    .dataframe tbody tr th {\n",
              "        vertical-align: top;\n",
              "    }\n",
              "\n",
              "    .dataframe thead th {\n",
              "        text-align: right;\n",
              "    }\n",
              "</style>\n",
              "<table border=\"1\" class=\"dataframe\">\n",
              "  <thead>\n",
              "    <tr style=\"text-align: right;\">\n",
              "      <th></th>\n",
              "      <th>Area_code</th>\n",
              "      <th>Area</th>\n",
              "      <th>Item_code</th>\n",
              "      <th>Item</th>\n",
              "      <th>Element_code</th>\n",
              "      <th>Element</th>\n",
              "      <th>Year_code</th>\n",
              "      <th>Year</th>\n",
              "      <th>Unit</th>\n",
              "      <th>Value</th>\n",
              "      <th>Flag</th>\n",
              "    </tr>\n",
              "  </thead>\n",
              "  <tbody>\n",
              "    <tr>\n",
              "      <th>0</th>\n",
              "      <td>1</td>\n",
              "      <td>Armenia</td>\n",
              "      <td>4007</td>\n",
              "      <td>Ammonia, anhydrous</td>\n",
              "      <td>5610</td>\n",
              "      <td>Import Quantity</td>\n",
              "      <td>2006</td>\n",
              "      <td>2006</td>\n",
              "      <td>tonnes</td>\n",
              "      <td>0.01</td>\n",
              "      <td>Qm</td>\n",
              "    </tr>\n",
              "    <tr>\n",
              "      <th>1</th>\n",
              "      <td>1</td>\n",
              "      <td>Armenia</td>\n",
              "      <td>4007</td>\n",
              "      <td>Ammonia, anhydrous</td>\n",
              "      <td>5610</td>\n",
              "      <td>Import Quantity</td>\n",
              "      <td>2007</td>\n",
              "      <td>2007</td>\n",
              "      <td>tonnes</td>\n",
              "      <td>32.88</td>\n",
              "      <td>Qm</td>\n",
              "    </tr>\n",
              "    <tr>\n",
              "      <th>2</th>\n",
              "      <td>1</td>\n",
              "      <td>Armenia</td>\n",
              "      <td>4007</td>\n",
              "      <td>Ammonia, anhydrous</td>\n",
              "      <td>5610</td>\n",
              "      <td>Import Quantity</td>\n",
              "      <td>2008</td>\n",
              "      <td>2008</td>\n",
              "      <td>tonnes</td>\n",
              "      <td>62.19</td>\n",
              "      <td>Qm</td>\n",
              "    </tr>\n",
              "    <tr>\n",
              "      <th>3</th>\n",
              "      <td>1</td>\n",
              "      <td>Armenia</td>\n",
              "      <td>4007</td>\n",
              "      <td>Ammonia, anhydrous</td>\n",
              "      <td>5610</td>\n",
              "      <td>Import Quantity</td>\n",
              "      <td>2009</td>\n",
              "      <td>2009</td>\n",
              "      <td>tonnes</td>\n",
              "      <td>119.93</td>\n",
              "      <td>Qm</td>\n",
              "    </tr>\n",
              "    <tr>\n",
              "      <th>4</th>\n",
              "      <td>1</td>\n",
              "      <td>Armenia</td>\n",
              "      <td>4007</td>\n",
              "      <td>Ammonia, anhydrous</td>\n",
              "      <td>5610</td>\n",
              "      <td>Import Quantity</td>\n",
              "      <td>2010</td>\n",
              "      <td>2010</td>\n",
              "      <td>tonnes</td>\n",
              "      <td>94.17</td>\n",
              "      <td>Qm</td>\n",
              "    </tr>\n",
              "  </tbody>\n",
              "</table>\n",
              "</div>\n",
              "      <button class=\"colab-df-convert\" onclick=\"convertToInteractive('df-5d294d16-3728-465b-bbca-6cdcacaf36bc')\"\n",
              "              title=\"Convert this dataframe to an interactive table.\"\n",
              "              style=\"display:none;\">\n",
              "        \n",
              "  <svg xmlns=\"http://www.w3.org/2000/svg\" height=\"24px\"viewBox=\"0 0 24 24\"\n",
              "       width=\"24px\">\n",
              "    <path d=\"M0 0h24v24H0V0z\" fill=\"none\"/>\n",
              "    <path d=\"M18.56 5.44l.94 2.06.94-2.06 2.06-.94-2.06-.94-.94-2.06-.94 2.06-2.06.94zm-11 1L8.5 8.5l.94-2.06 2.06-.94-2.06-.94L8.5 2.5l-.94 2.06-2.06.94zm10 10l.94 2.06.94-2.06 2.06-.94-2.06-.94-.94-2.06-.94 2.06-2.06.94z\"/><path d=\"M17.41 7.96l-1.37-1.37c-.4-.4-.92-.59-1.43-.59-.52 0-1.04.2-1.43.59L10.3 9.45l-7.72 7.72c-.78.78-.78 2.05 0 2.83L4 21.41c.39.39.9.59 1.41.59.51 0 1.02-.2 1.41-.59l7.78-7.78 2.81-2.81c.8-.78.8-2.07 0-2.86zM5.41 20L4 18.59l7.72-7.72 1.47 1.35L5.41 20z\"/>\n",
              "  </svg>\n",
              "      </button>\n",
              "      \n",
              "  <style>\n",
              "    .colab-df-container {\n",
              "      display:flex;\n",
              "      flex-wrap:wrap;\n",
              "      gap: 12px;\n",
              "    }\n",
              "\n",
              "    .colab-df-convert {\n",
              "      background-color: #E8F0FE;\n",
              "      border: none;\n",
              "      border-radius: 50%;\n",
              "      cursor: pointer;\n",
              "      display: none;\n",
              "      fill: #1967D2;\n",
              "      height: 32px;\n",
              "      padding: 0 0 0 0;\n",
              "      width: 32px;\n",
              "    }\n",
              "\n",
              "    .colab-df-convert:hover {\n",
              "      background-color: #E2EBFA;\n",
              "      box-shadow: 0px 1px 2px rgba(60, 64, 67, 0.3), 0px 1px 3px 1px rgba(60, 64, 67, 0.15);\n",
              "      fill: #174EA6;\n",
              "    }\n",
              "\n",
              "    [theme=dark] .colab-df-convert {\n",
              "      background-color: #3B4455;\n",
              "      fill: #D2E3FC;\n",
              "    }\n",
              "\n",
              "    [theme=dark] .colab-df-convert:hover {\n",
              "      background-color: #434B5C;\n",
              "      box-shadow: 0px 1px 3px 1px rgba(0, 0, 0, 0.15);\n",
              "      filter: drop-shadow(0px 1px 2px rgba(0, 0, 0, 0.3));\n",
              "      fill: #FFFFFF;\n",
              "    }\n",
              "  </style>\n",
              "\n",
              "      <script>\n",
              "        const buttonEl =\n",
              "          document.querySelector('#df-5d294d16-3728-465b-bbca-6cdcacaf36bc button.colab-df-convert');\n",
              "        buttonEl.style.display =\n",
              "          google.colab.kernel.accessAllowed ? 'block' : 'none';\n",
              "\n",
              "        async function convertToInteractive(key) {\n",
              "          const element = document.querySelector('#df-5d294d16-3728-465b-bbca-6cdcacaf36bc');\n",
              "          const dataTable =\n",
              "            await google.colab.kernel.invokeFunction('convertToInteractive',\n",
              "                                                     [key], {});\n",
              "          if (!dataTable) return;\n",
              "\n",
              "          const docLinkHtml = 'Like what you see? Visit the ' +\n",
              "            '<a target=\"_blank\" href=https://colab.research.google.com/notebooks/data_table.ipynb>data table notebook</a>'\n",
              "            + ' to learn more about interactive tables.';\n",
              "          element.innerHTML = '';\n",
              "          dataTable['output_type'] = 'display_data';\n",
              "          await google.colab.output.renderOutput(dataTable, element);\n",
              "          const docLink = document.createElement('div');\n",
              "          docLink.innerHTML = docLinkHtml;\n",
              "          element.appendChild(docLink);\n",
              "        }\n",
              "      </script>\n",
              "    </div>\n",
              "  </div>\n",
              "  "
            ]
          },
          "metadata": {},
          "execution_count": 3
        }
      ],
      "source": [
        "df.head()"
      ]
    },
    {
      "cell_type": "code",
      "execution_count": 4,
      "metadata": {
        "colab": {
          "base_uri": "https://localhost:8080/"
        },
        "id": "6hbPVyochrXw",
        "outputId": "00a32db0-3d08-4b59-befe-eda868dba448"
      },
      "outputs": [
        {
          "output_type": "stream",
          "name": "stdout",
          "text": [
            "<class 'pandas.core.frame.DataFrame'>\n",
            "RangeIndex: 146550 entries, 0 to 146549\n",
            "Data columns (total 11 columns):\n",
            " #   Column        Non-Null Count   Dtype  \n",
            "---  ------        --------------   -----  \n",
            " 0   Area_code     146550 non-null  int64  \n",
            " 1   Area          146550 non-null  object \n",
            " 2   Item_code     146550 non-null  int64  \n",
            " 3   Item          146550 non-null  object \n",
            " 4   Element_code  146550 non-null  int64  \n",
            " 5   Element       146550 non-null  object \n",
            " 6   Year_code     146550 non-null  int64  \n",
            " 7   Year          146550 non-null  int64  \n",
            " 8   Unit          146550 non-null  object \n",
            " 9   Value         146550 non-null  float64\n",
            " 10  Flag          146550 non-null  object \n",
            "dtypes: float64(1), int64(5), object(5)\n",
            "memory usage: 12.3+ MB\n"
          ]
        }
      ],
      "source": [
        "df.info()"
      ]
    },
    {
      "cell_type": "code",
      "execution_count": 5,
      "metadata": {
        "colab": {
          "base_uri": "https://localhost:8080/"
        },
        "id": "GlMKZ-rlxu-Q",
        "outputId": "fd4f6064-14b6-421c-b3d5-c3706d131a9e"
      },
      "outputs": [
        {
          "output_type": "execute_result",
          "data": {
            "text/plain": [
              "Area_code       0\n",
              "Area            0\n",
              "Item_code       0\n",
              "Item            0\n",
              "Element_code    0\n",
              "Element         0\n",
              "Year_code       0\n",
              "Year            0\n",
              "Unit            0\n",
              "Value           0\n",
              "Flag            0\n",
              "dtype: int64"
            ]
          },
          "metadata": {},
          "execution_count": 5
        }
      ],
      "source": [
        "#Missing value\n",
        "df.isnull().sum()"
      ]
    },
    {
      "cell_type": "code",
      "execution_count": 6,
      "metadata": {
        "id": "tVDz6CYtDqM1"
      },
      "outputs": [],
      "source": [
        "df.drop(\"Flag\",axis=1,inplace=True)"
      ]
    },
    {
      "cell_type": "code",
      "execution_count": 7,
      "metadata": {
        "colab": {
          "base_uri": "https://localhost:8080/",
          "height": 238
        },
        "id": "lyz52yYOjTSp",
        "outputId": "7d6d4988-7e63-401a-8134-37681f2214b8"
      },
      "outputs": [
        {
          "output_type": "execute_result",
          "data": {
            "text/plain": [
              "                 count          mean            std     min        25%  \\\n",
              "Area_code     146550.0    129.388878      73.241525     1.0    67.0000   \n",
              "Item_code     146550.0   4014.247472       9.006368  4001.0  4006.0000   \n",
              "Element_code  146550.0   5665.826905     212.072730  5157.0  5610.0000   \n",
              "Year_code     146550.0   2009.742143       4.543515  2002.0  2006.0000   \n",
              "Year          146550.0   2009.742143       4.543515  2002.0  2006.0000   \n",
              "Value         146550.0  98259.402706  689518.845901 -1043.0    50.8825   \n",
              "\n",
              "                   50%        75%          max  \n",
              "Area_code      121.000    198.000       276.00  \n",
              "Item_code     4014.000   4022.000      4030.00  \n",
              "Element_code  5622.000   5910.000      5922.00  \n",
              "Year_code     2010.000   2014.000      2017.00  \n",
              "Year          2010.000   2014.000      2017.00  \n",
              "Value         1087.745  16683.455  49046666.67  "
            ],
            "text/html": [
              "\n",
              "  <div id=\"df-7f6c27da-1110-4e1a-8573-dddd8a4a5a40\">\n",
              "    <div class=\"colab-df-container\">\n",
              "      <div>\n",
              "<style scoped>\n",
              "    .dataframe tbody tr th:only-of-type {\n",
              "        vertical-align: middle;\n",
              "    }\n",
              "\n",
              "    .dataframe tbody tr th {\n",
              "        vertical-align: top;\n",
              "    }\n",
              "\n",
              "    .dataframe thead th {\n",
              "        text-align: right;\n",
              "    }\n",
              "</style>\n",
              "<table border=\"1\" class=\"dataframe\">\n",
              "  <thead>\n",
              "    <tr style=\"text-align: right;\">\n",
              "      <th></th>\n",
              "      <th>count</th>\n",
              "      <th>mean</th>\n",
              "      <th>std</th>\n",
              "      <th>min</th>\n",
              "      <th>25%</th>\n",
              "      <th>50%</th>\n",
              "      <th>75%</th>\n",
              "      <th>max</th>\n",
              "    </tr>\n",
              "  </thead>\n",
              "  <tbody>\n",
              "    <tr>\n",
              "      <th>Area_code</th>\n",
              "      <td>146550.0</td>\n",
              "      <td>129.388878</td>\n",
              "      <td>73.241525</td>\n",
              "      <td>1.0</td>\n",
              "      <td>67.0000</td>\n",
              "      <td>121.000</td>\n",
              "      <td>198.000</td>\n",
              "      <td>276.00</td>\n",
              "    </tr>\n",
              "    <tr>\n",
              "      <th>Item_code</th>\n",
              "      <td>146550.0</td>\n",
              "      <td>4014.247472</td>\n",
              "      <td>9.006368</td>\n",
              "      <td>4001.0</td>\n",
              "      <td>4006.0000</td>\n",
              "      <td>4014.000</td>\n",
              "      <td>4022.000</td>\n",
              "      <td>4030.00</td>\n",
              "    </tr>\n",
              "    <tr>\n",
              "      <th>Element_code</th>\n",
              "      <td>146550.0</td>\n",
              "      <td>5665.826905</td>\n",
              "      <td>212.072730</td>\n",
              "      <td>5157.0</td>\n",
              "      <td>5610.0000</td>\n",
              "      <td>5622.000</td>\n",
              "      <td>5910.000</td>\n",
              "      <td>5922.00</td>\n",
              "    </tr>\n",
              "    <tr>\n",
              "      <th>Year_code</th>\n",
              "      <td>146550.0</td>\n",
              "      <td>2009.742143</td>\n",
              "      <td>4.543515</td>\n",
              "      <td>2002.0</td>\n",
              "      <td>2006.0000</td>\n",
              "      <td>2010.000</td>\n",
              "      <td>2014.000</td>\n",
              "      <td>2017.00</td>\n",
              "    </tr>\n",
              "    <tr>\n",
              "      <th>Year</th>\n",
              "      <td>146550.0</td>\n",
              "      <td>2009.742143</td>\n",
              "      <td>4.543515</td>\n",
              "      <td>2002.0</td>\n",
              "      <td>2006.0000</td>\n",
              "      <td>2010.000</td>\n",
              "      <td>2014.000</td>\n",
              "      <td>2017.00</td>\n",
              "    </tr>\n",
              "    <tr>\n",
              "      <th>Value</th>\n",
              "      <td>146550.0</td>\n",
              "      <td>98259.402706</td>\n",
              "      <td>689518.845901</td>\n",
              "      <td>-1043.0</td>\n",
              "      <td>50.8825</td>\n",
              "      <td>1087.745</td>\n",
              "      <td>16683.455</td>\n",
              "      <td>49046666.67</td>\n",
              "    </tr>\n",
              "  </tbody>\n",
              "</table>\n",
              "</div>\n",
              "      <button class=\"colab-df-convert\" onclick=\"convertToInteractive('df-7f6c27da-1110-4e1a-8573-dddd8a4a5a40')\"\n",
              "              title=\"Convert this dataframe to an interactive table.\"\n",
              "              style=\"display:none;\">\n",
              "        \n",
              "  <svg xmlns=\"http://www.w3.org/2000/svg\" height=\"24px\"viewBox=\"0 0 24 24\"\n",
              "       width=\"24px\">\n",
              "    <path d=\"M0 0h24v24H0V0z\" fill=\"none\"/>\n",
              "    <path d=\"M18.56 5.44l.94 2.06.94-2.06 2.06-.94-2.06-.94-.94-2.06-.94 2.06-2.06.94zm-11 1L8.5 8.5l.94-2.06 2.06-.94-2.06-.94L8.5 2.5l-.94 2.06-2.06.94zm10 10l.94 2.06.94-2.06 2.06-.94-2.06-.94-.94-2.06-.94 2.06-2.06.94z\"/><path d=\"M17.41 7.96l-1.37-1.37c-.4-.4-.92-.59-1.43-.59-.52 0-1.04.2-1.43.59L10.3 9.45l-7.72 7.72c-.78.78-.78 2.05 0 2.83L4 21.41c.39.39.9.59 1.41.59.51 0 1.02-.2 1.41-.59l7.78-7.78 2.81-2.81c.8-.78.8-2.07 0-2.86zM5.41 20L4 18.59l7.72-7.72 1.47 1.35L5.41 20z\"/>\n",
              "  </svg>\n",
              "      </button>\n",
              "      \n",
              "  <style>\n",
              "    .colab-df-container {\n",
              "      display:flex;\n",
              "      flex-wrap:wrap;\n",
              "      gap: 12px;\n",
              "    }\n",
              "\n",
              "    .colab-df-convert {\n",
              "      background-color: #E8F0FE;\n",
              "      border: none;\n",
              "      border-radius: 50%;\n",
              "      cursor: pointer;\n",
              "      display: none;\n",
              "      fill: #1967D2;\n",
              "      height: 32px;\n",
              "      padding: 0 0 0 0;\n",
              "      width: 32px;\n",
              "    }\n",
              "\n",
              "    .colab-df-convert:hover {\n",
              "      background-color: #E2EBFA;\n",
              "      box-shadow: 0px 1px 2px rgba(60, 64, 67, 0.3), 0px 1px 3px 1px rgba(60, 64, 67, 0.15);\n",
              "      fill: #174EA6;\n",
              "    }\n",
              "\n",
              "    [theme=dark] .colab-df-convert {\n",
              "      background-color: #3B4455;\n",
              "      fill: #D2E3FC;\n",
              "    }\n",
              "\n",
              "    [theme=dark] .colab-df-convert:hover {\n",
              "      background-color: #434B5C;\n",
              "      box-shadow: 0px 1px 3px 1px rgba(0, 0, 0, 0.15);\n",
              "      filter: drop-shadow(0px 1px 2px rgba(0, 0, 0, 0.3));\n",
              "      fill: #FFFFFF;\n",
              "    }\n",
              "  </style>\n",
              "\n",
              "      <script>\n",
              "        const buttonEl =\n",
              "          document.querySelector('#df-7f6c27da-1110-4e1a-8573-dddd8a4a5a40 button.colab-df-convert');\n",
              "        buttonEl.style.display =\n",
              "          google.colab.kernel.accessAllowed ? 'block' : 'none';\n",
              "\n",
              "        async function convertToInteractive(key) {\n",
              "          const element = document.querySelector('#df-7f6c27da-1110-4e1a-8573-dddd8a4a5a40');\n",
              "          const dataTable =\n",
              "            await google.colab.kernel.invokeFunction('convertToInteractive',\n",
              "                                                     [key], {});\n",
              "          if (!dataTable) return;\n",
              "\n",
              "          const docLinkHtml = 'Like what you see? Visit the ' +\n",
              "            '<a target=\"_blank\" href=https://colab.research.google.com/notebooks/data_table.ipynb>data table notebook</a>'\n",
              "            + ' to learn more about interactive tables.';\n",
              "          element.innerHTML = '';\n",
              "          dataTable['output_type'] = 'display_data';\n",
              "          await google.colab.output.renderOutput(dataTable, element);\n",
              "          const docLink = document.createElement('div');\n",
              "          docLink.innerHTML = docLinkHtml;\n",
              "          element.appendChild(docLink);\n",
              "        }\n",
              "      </script>\n",
              "    </div>\n",
              "  </div>\n",
              "  "
            ]
          },
          "metadata": {},
          "execution_count": 7
        }
      ],
      "source": [
        "df.describe().T"
      ]
    },
    {
      "cell_type": "code",
      "execution_count": 8,
      "metadata": {
        "colab": {
          "base_uri": "https://localhost:8080/",
          "height": 343
        },
        "id": "JwshEYjNxySP",
        "outputId": "4f387ace-b5f2-492b-ee00-c733e012bf76"
      },
      "outputs": [
        {
          "output_type": "execute_result",
          "data": {
            "text/plain": [
              "<matplotlib.axes._subplots.AxesSubplot at 0x7fbb38aa0b10>"
            ]
          },
          "metadata": {},
          "execution_count": 8
        },
        {
          "output_type": "display_data",
          "data": {
            "text/plain": [
              "<Figure size 432x288 with 1 Axes>"
            ],
            "image/png": "[encoded data removed]"
          },
          "metadata": {}
        }
      ],
      "source": [
        "#to see null visually use heatmap\n",
        "sns.heatmap(df.isnull(),yticklabels=False,cbar=False,cmap='viridis') # yticklabels=False-> not want indexs on y axis index means row of all col\n",
        "#null values:-shown in yellow colr by using viridis"
      ]
    },
    {
      "cell_type": "code",
      "execution_count": 9,
      "metadata": {
        "colab": {
          "base_uri": "https://localhost:8080/"
        },
        "id": "Y0Z9rKhJU_sH",
        "outputId": "c32da5d2-5844-4b95-e742-7ccdc327059d"
      },
      "outputs": [
        {
          "output_type": "stream",
          "name": "stdout",
          "text": [
            "['Armenia', 'Afghanistan', 'Albania', 'Algeria', 'Angola', 'Argentina', 'Australia', 'Austria', 'Bahrain', 'Barbados', 'Bangladesh', 'Bhutan', 'Botswana', 'Brazil', 'Belize', 'Brunei Darussalam', 'Bulgaria', 'Myanmar', 'Burundi', 'Central African Republic', 'Sri Lanka', 'Chile', 'China, mainland', 'Colombia', 'Congo', 'Costa Rica', 'Cyprus', 'Azerbaijan', 'Benin', 'Denmark', 'Dominican Republic', 'Belarus', 'Ecuador', 'Egypt', 'El Salvador', 'Estonia', 'Fiji', 'Finland', 'France', 'French Polynesia', 'Georgia', 'Gabon', 'Gambia', 'Germany', 'Bosnia and Herzegovina', 'Ghana', 'Greece', 'Guatemala', 'Guinea', 'Guyana', 'Honduras', 'China, Hong Kong SAR', 'Hungary', 'Croatia', 'Iceland', 'India', 'Indonesia', 'Iran (Islamic Republic of)', 'Iraq', 'Ireland', 'Israel', 'Italy', \"Côte d'Ivoire\", 'Kazakhstan', 'Jamaica', 'Japan', 'Jordan', 'Kenya', 'Cambodia', 'Republic of Korea', 'Kuwait', 'Latvia', 'Lebanon', 'Libya', 'Marshall Islands', 'China, Macao SAR', 'Madagascar', 'Malaysia', 'Maldives', 'Mali', 'Malta', 'Mauritius', 'Mexico', 'Morocco', 'Mozambique', 'Namibia', 'Nepal', 'Netherlands', 'New Caledonia', 'New Zealand', 'Nicaragua', 'Nigeria', 'Norway', 'Pakistan', 'Panama', 'Papua New Guinea', 'Paraguay', 'Peru', 'Philippines', 'Poland', 'Portugal', 'Eritrea', 'Qatar', 'Romania', 'Rwanda', 'Russian Federation', 'Saint Kitts and Nevis', 'Saint Lucia', 'Saudi Arabia', 'Slovenia', 'Slovakia', 'Singapore', 'South Africa', 'Spain', 'Sudan (former)', 'Suriname', 'Tajikistan', 'Sweden', 'Switzerland', 'Syrian Arab Republic', 'China, Taiwan Province of', 'Thailand', 'Togo', 'Tonga', 'Trinidad and Tobago', 'Oman', 'Tunisia', 'Turkey', 'United Arab Emirates', 'Uganda', 'United Kingdom', 'Ukraine', 'United States of America', 'Burkina Faso', 'Uruguay', 'Uzbekistan', 'Venezuela (Bolivarian Republic of)', 'Viet Nam', 'Ethiopia', 'Samoa', 'Yemen', 'Belgium', 'Luxembourg', 'Serbia', 'Montenegro', 'Sudan']\n",
            "[2006, 2007, 2008, 2009, 2010, 2011, 2012, 2013, 2014, 2015, 2017, 2002, 2003, 2004, 2005, 2016]\n",
            "['Import Quantity', 'Import Value', 'Export Quantity', 'Export Value', 'Agricultural Use', 'Production']\n"
          ]
        }
      ],
      "source": [
        "def unique_value(col):\n",
        "  list=[]\n",
        "  for i in df[col]:\n",
        "    if i not in list:\n",
        "      list.append(i)\n",
        "  print(list)\n",
        "unique_value('Area') #146 value\n",
        "unique_value('Year') #16 value\n",
        "unique_value('Element') #6 value"
      ]
    },
    {
      "cell_type": "code",
      "execution_count": 10,
      "metadata": {
        "colab": {
          "base_uri": "https://localhost:8080/"
        },
        "id": "yGTdT7h0NBJR",
        "outputId": "98e6f0bd-16fa-4e8f-da1c-ec47ae325580"
      },
      "outputs": [
        {
          "output_type": "stream",
          "name": "stdout",
          "text": [
            "Area : 146 labels\n",
            "Item : 23 labels\n",
            "Element : 6 labels\n",
            "Unit : 2 labels\n"
          ]
        }
      ],
      "source": [
        "for col in df.columns:\n",
        "  if df[col].dtype==np.dtype('object'):\n",
        "    print(col,':',len(df[col].unique()),'labels')"
      ]
    },
    {
      "cell_type": "code",
      "execution_count": 11,
      "metadata": {
        "colab": {
          "base_uri": "https://localhost:8080/",
          "height": 296
        },
        "id": "Y5dNtRbvyW7X",
        "outputId": "a2a60168-e81f-4abc-9a9e-32c02d12f5cc"
      },
      "outputs": [
        {
          "output_type": "execute_result",
          "data": {
            "text/plain": [
              "<matplotlib.axes._subplots.AxesSubplot at 0x7fbb3489f810>"
            ]
          },
          "metadata": {},
          "execution_count": 11
        },
        {
          "output_type": "display_data",
          "data": {
            "text/plain": [
              "<Figure size 432x288 with 1 Axes>"
            ],
            "image/png": "[encoded data removed]"
          },
          "metadata": {}
        }
      ],
      "source": [
        "#Element,Area,Item\n",
        "#countplot->Show the number of datapoints with each value of a categorical variable  #hue->legend\n",
        "# plt.figure(figsize =(16, 20))\n",
        "sns.set_style('whitegrid')\n",
        "sns.countplot(data=df, y=\"Element\")"
      ]
    },
    {
      "cell_type": "code",
      "execution_count": 12,
      "metadata": {
        "colab": {
          "base_uri": "https://localhost:8080/",
          "height": 731
        },
        "id": "tofE0WjP5jyf",
        "outputId": "83b6a625-5fe2-4822-b046-08dedafa9c00"
      },
      "outputs": [
        {
          "output_type": "execute_result",
          "data": {
            "text/plain": [
              "<matplotlib.axes._subplots.AxesSubplot at 0x7fbb3482b150>"
            ]
          },
          "metadata": {},
          "execution_count": 12
        },
        {
          "output_type": "display_data",
          "data": {
            "text/plain": [
              "<Figure size 576x864 with 1 Axes>"
            ],
            "image/png": "[encoded data removed]"
          },
          "metadata": {}
        }
      ],
      "source": [
        "#y=df[\"Item\"].count().sort_valures(desc=True).head(17)\n",
        "#plt.figure(figsize =(20, 20))\n",
        "plt.figure(figsize =(8, 12))\n",
        "sns.countplot(data=df, y=df[\"Item\"])"
      ]
    },
    {
      "cell_type": "code",
      "source": [
        "\n",
        "sns.countplot(data=df, y=df[\"Unit\"])"
      ],
      "metadata": {
        "colab": {
          "base_uri": "https://localhost:8080/",
          "height": 296
        },
        "id": "fVAITG1Md2dr",
        "outputId": "b3c81e7a-967e-4372-8d7f-66859da73c0d"
      },
      "execution_count": 13,
      "outputs": [
        {
          "output_type": "execute_result",
          "data": {
            "text/plain": [
              "<matplotlib.axes._subplots.AxesSubplot at 0x7fbb348fcfd0>"
            ]
          },
          "metadata": {},
          "execution_count": 13
        },
        {
          "output_type": "display_data",
          "data": {
            "text/plain": [
              "<Figure size 432x288 with 1 Axes>"
            ],
            "image/png": "[encoded data removed]"
          },
          "metadata": {}
        }
      ]
    },
    {
      "cell_type": "code",
      "source": [
        "#sns.countplot(data=df, y=df[\"Area\"])"
      ],
      "metadata": {
        "id": "P6gsewz5S_US"
      },
      "execution_count": 14,
      "outputs": []
    },
    {
      "cell_type": "code",
      "execution_count": 15,
      "metadata": {
        "colab": {
          "base_uri": "https://localhost:8080/",
          "height": 450
        },
        "id": "G3DJ0Iu8qegi",
        "outputId": "9ac86725-0d2f-4d61-c73d-6dfa59fd15da"
      },
      "outputs": [
        {
          "output_type": "display_data",
          "data": {
            "text/plain": [
              "<Figure size 2880x432 with 1 Axes>"
            ],
            "image/png": "[encoded data removed]"
          },
          "metadata": {}
        }
      ],
      "source": [
        "#????????????????????//\n",
        "plt.figure(figsize=(40,6))\n",
        "Area_count = df['Area'].value_counts()\n",
        "#sns.barplot(Area_count.index,Area_count.values, alpha=0.8)\n",
        "Area_count.head(20).plot.bar(color='y',edgecolor='k')    ##?????\n",
        "\n",
        "plt.title('Top area in data',fontsize=25,fontweight='bold')\n",
        "plt.xlabel('Area',fontsize=15,fontweight='bold')\n",
        "plt.ylabel('count_of_area',fontsize=15,fontweight='bold')    #?????\n",
        "plt.show()"
      ]
    },
    {
      "cell_type": "code",
      "source": [
        "df.plot.scatter(\"Value\",\"Item_code\")"
      ],
      "metadata": {
        "id": "s_ikOwfajXKc",
        "outputId": "e135b520-ad19-42e6-ccd7-285777faece2",
        "colab": {
          "base_uri": "https://localhost:8080/",
          "height": 296
        }
      },
      "execution_count": 16,
      "outputs": [
        {
          "output_type": "execute_result",
          "data": {
            "text/plain": [
              "<matplotlib.axes._subplots.AxesSubplot at 0x7fbb3491d4d0>"
            ]
          },
          "metadata": {},
          "execution_count": 16
        },
        {
          "output_type": "display_data",
          "data": {
            "text/plain": [
              "<Figure size 432x288 with 1 Axes>"
            ],
            "image/png": "[encoded data removed]"
          },
          "metadata": {}
        }
      ]
    },
    {
      "cell_type": "markdown",
      "metadata": {
        "id": "q8UY5AH02QI4"
      },
      "source": [
        "Outlier"
      ]
    },
    {
      "cell_type": "code",
      "execution_count": 17,
      "metadata": {
        "colab": {
          "base_uri": "https://localhost:8080/",
          "height": 282
        },
        "id": "Izdr1ge2_5sb",
        "outputId": "6808a0e9-73c2-4390-f9ff-ef9e90dd77ca"
      },
      "outputs": [
        {
          "output_type": "execute_result",
          "data": {
            "text/plain": [
              "Text(0, 0.5, 'Area_code')"
            ]
          },
          "metadata": {},
          "execution_count": 17
        },
        {
          "output_type": "display_data",
          "data": {
            "text/plain": [
              "<Figure size 432x288 with 1 Axes>"
            ],
            "image/png": "[encoded data removed]"
          },
          "metadata": {}
        }
      ],
      "source": [
        "plt.boxplot(df['Area_code'])\n",
        "plt.ylabel('Area_code',fontsize=15,fontweight='bold')   #->area_code from 125 to 200 have 50% to 75% value (that is max count)"
      ]
    },
    {
      "cell_type": "code",
      "source": [
        "df[\"Area_code\"].value_counts() "
      ],
      "metadata": {
        "colab": {
          "base_uri": "https://localhost:8080/"
        },
        "id": "eR4bYnfMDXHd",
        "outputId": "60fa8210-4215-4206-9355-e39ff6986e81"
      },
      "execution_count": 18,
      "outputs": [
        {
          "output_type": "execute_result",
          "data": {
            "text/plain": [
              "21     1779\n",
              "198    1626\n",
              "54     1621\n",
              "231    1592\n",
              "210    1575\n",
              "       ... \n",
              "128     281\n",
              "219     238\n",
              "178     184\n",
              "37      164\n",
              "127      58\n",
              "Name: Area_code, Length: 146, dtype: int64"
            ]
          },
          "metadata": {},
          "execution_count": 18
        }
      ]
    },
    {
      "cell_type": "code",
      "execution_count": 19,
      "metadata": {
        "colab": {
          "base_uri": "https://localhost:8080/",
          "height": 404
        },
        "id": "ZIUZQxzQPau-",
        "outputId": "6a09a8ba-e3e4-4df0-fb47-41caca453814"
      },
      "outputs": [
        {
          "output_type": "execute_result",
          "data": {
            "text/plain": [
              "{'whiskers': [<matplotlib.lines.Line2D at 0x7fbb36dc9650>,\n",
              "  <matplotlib.lines.Line2D at 0x7fbb36dc9b90>],\n",
              " 'caps': [<matplotlib.lines.Line2D at 0x7fbb36de7110>,\n",
              "  <matplotlib.lines.Line2D at 0x7fbb36de7650>],\n",
              " 'boxes': [<matplotlib.lines.Line2D at 0x7fbb36dc9050>],\n",
              " 'medians': [<matplotlib.lines.Line2D at 0x7fbb36de7bd0>],\n",
              " 'fliers': [<matplotlib.lines.Line2D at 0x7fbb36ddf150>],\n",
              " 'means': []}"
            ]
          },
          "metadata": {},
          "execution_count": 19
        },
        {
          "output_type": "display_data",
          "data": {
            "text/plain": [
              "<Figure size 432x288 with 1 Axes>"
            ],
            "image/png": "[encoded data removed]"
          },
          "metadata": {}
        }
      ],
      "source": [
        "plt.boxplot(df['Item_code'])"
      ]
    },
    {
      "cell_type": "code",
      "source": [
        "df[\"Item_code\"].value_counts() "
      ],
      "metadata": {
        "colab": {
          "base_uri": "https://localhost:8080/"
        },
        "id": "VAf613ETVOfW",
        "outputId": "7358a00a-9909-4f3e-a7a2-0801a0e9f709"
      },
      "execution_count": 20,
      "outputs": [
        {
          "output_type": "execute_result",
          "data": {
            "text/plain": [
              "4001    9390\n",
              "4021    8964\n",
              "4002    8091\n",
              "4008    7972\n",
              "4016    7937\n",
              "4030    7816\n",
              "4003    7614\n",
              "4024    7565\n",
              "4022    6986\n",
              "4017    6929\n",
              "4025    6770\n",
              "4007    6728\n",
              "4023    6514\n",
              "4027    6439\n",
              "4012    6433\n",
              "4018    6415\n",
              "4011    6081\n",
              "4014    5984\n",
              "4004    5345\n",
              "4005    5281\n",
              "4006    4139\n",
              "4013    1003\n",
              "4026     154\n",
              "Name: Item_code, dtype: int64"
            ]
          },
          "metadata": {},
          "execution_count": 20
        }
      ]
    },
    {
      "cell_type": "code",
      "execution_count": 21,
      "metadata": {
        "colab": {
          "base_uri": "https://localhost:8080/",
          "height": 404
        },
        "id": "Q7Zim1qHTgYp",
        "outputId": "af173158-e089-4f5c-8a5d-6cd63ccfdf0f"
      },
      "outputs": [
        {
          "output_type": "execute_result",
          "data": {
            "text/plain": [
              "{'whiskers': [<matplotlib.lines.Line2D at 0x7fbb34e01d90>,\n",
              "  <matplotlib.lines.Line2D at 0x7fbb34e12310>],\n",
              " 'caps': [<matplotlib.lines.Line2D at 0x7fbb34e12850>,\n",
              "  <matplotlib.lines.Line2D at 0x7fbb34e12d90>],\n",
              " 'boxes': [<matplotlib.lines.Line2D at 0x7fbb34e01790>],\n",
              " 'medians': [<matplotlib.lines.Line2D at 0x7fbb34e13350>],\n",
              " 'fliers': [<matplotlib.lines.Line2D at 0x7fbb34e13890>],\n",
              " 'means': []}"
            ]
          },
          "metadata": {},
          "execution_count": 21
        },
        {
          "output_type": "display_data",
          "data": {
            "text/plain": [
              "<Figure size 432x288 with 1 Axes>"
            ],
            "image/png": "[encoded data removed]"
          },
          "metadata": {}
        }
      ],
      "source": [
        "plt.boxplot(df['Element_code'])"
      ]
    },
    {
      "cell_type": "code",
      "source": [
        "df[\"Element_code\"].value_counts() "
      ],
      "metadata": {
        "colab": {
          "base_uri": "https://localhost:8080/"
        },
        "id": "jwubREQUVVqt",
        "outputId": "9c2ee3ac-7332-488b-b194-d35c79ee4b1e"
      },
      "execution_count": 22,
      "outputs": [
        {
          "output_type": "execute_result",
          "data": {
            "text/plain": [
              "5610    40388\n",
              "5622    40388\n",
              "5910    23164\n",
              "5922    23164\n",
              "5157    12847\n",
              "5510     6599\n",
              "Name: Element_code, dtype: int64"
            ]
          },
          "metadata": {},
          "execution_count": 22
        }
      ]
    },
    {
      "cell_type": "code",
      "source": [
        "plt.boxplot(df['Year_code'])"
      ],
      "metadata": {
        "colab": {
          "base_uri": "https://localhost:8080/",
          "height": 404
        },
        "id": "geD85ikHDlyJ",
        "outputId": "51e1ad9d-0ce9-489f-cb62-ba28826064dd"
      },
      "execution_count": 23,
      "outputs": [
        {
          "output_type": "execute_result",
          "data": {
            "text/plain": [
              "{'whiskers': [<matplotlib.lines.Line2D at 0x7fbb34947d90>,\n",
              "  <matplotlib.lines.Line2D at 0x7fbb3495a310>],\n",
              " 'caps': [<matplotlib.lines.Line2D at 0x7fbb3495a850>,\n",
              "  <matplotlib.lines.Line2D at 0x7fbb3495ad90>],\n",
              " 'boxes': [<matplotlib.lines.Line2D at 0x7fbb34947790>],\n",
              " 'medians': [<matplotlib.lines.Line2D at 0x7fbb3495f350>],\n",
              " 'fliers': [<matplotlib.lines.Line2D at 0x7fbb3495f890>],\n",
              " 'means': []}"
            ]
          },
          "metadata": {},
          "execution_count": 23
        },
        {
          "output_type": "display_data",
          "data": {
            "text/plain": [
              "<Figure size 432x288 with 1 Axes>"
            ],
            "image/png": "[encoded data removed]"
          },
          "metadata": {}
        }
      ]
    },
    {
      "cell_type": "code",
      "source": [
        "df.quantile([0.25,0.75])"
      ],
      "metadata": {
        "colab": {
          "base_uri": "https://localhost:8080/",
          "height": 112
        },
        "id": "Jf2j7ix98ofu",
        "outputId": "4ad73a97-82da-4668-beb4-890e02683e97"
      },
      "execution_count": 24,
      "outputs": [
        {
          "output_type": "execute_result",
          "data": {
            "text/plain": [
              "      Area_code  Item_code  Element_code  Year_code    Year       Value\n",
              "0.25       67.0     4006.0        5610.0     2006.0  2006.0     50.8825\n",
              "0.75      198.0     4022.0        5910.0     2014.0  2014.0  16683.4550"
            ],
            "text/html": [
              "\n",
              "  <div id=\"df-8426245b-4a55-493c-a891-3322a5df5085\">\n",
              "    <div class=\"colab-df-container\">\n",
              "      <div>\n",
              "<style scoped>\n",
              "    .dataframe tbody tr th:only-of-type {\n",
              "        vertical-align: middle;\n",
              "    }\n",
              "\n",
              "    .dataframe tbody tr th {\n",
              "        vertical-align: top;\n",
              "    }\n",
              "\n",
              "    .dataframe thead th {\n",
              "        text-align: right;\n",
              "    }\n",
              "</style>\n",
              "<table border=\"1\" class=\"dataframe\">\n",
              "  <thead>\n",
              "    <tr style=\"text-align: right;\">\n",
              "      <th></th>\n",
              "      <th>Area_code</th>\n",
              "      <th>Item_code</th>\n",
              "      <th>Element_code</th>\n",
              "      <th>Year_code</th>\n",
              "      <th>Year</th>\n",
              "      <th>Value</th>\n",
              "    </tr>\n",
              "  </thead>\n",
              "  <tbody>\n",
              "    <tr>\n",
              "      <th>0.25</th>\n",
              "      <td>67.0</td>\n",
              "      <td>4006.0</td>\n",
              "      <td>5610.0</td>\n",
              "      <td>2006.0</td>\n",
              "      <td>2006.0</td>\n",
              "      <td>50.8825</td>\n",
              "    </tr>\n",
              "    <tr>\n",
              "      <th>0.75</th>\n",
              "      <td>198.0</td>\n",
              "      <td>4022.0</td>\n",
              "      <td>5910.0</td>\n",
              "      <td>2014.0</td>\n",
              "      <td>2014.0</td>\n",
              "      <td>16683.4550</td>\n",
              "    </tr>\n",
              "  </tbody>\n",
              "</table>\n",
              "</div>\n",
              "      <button class=\"colab-df-convert\" onclick=\"convertToInteractive('df-8426245b-4a55-493c-a891-3322a5df5085')\"\n",
              "              title=\"Convert this dataframe to an interactive table.\"\n",
              "              style=\"display:none;\">\n",
              "        \n",
              "  <svg xmlns=\"http://www.w3.org/2000/svg\" height=\"24px\"viewBox=\"0 0 24 24\"\n",
              "       width=\"24px\">\n",
              "    <path d=\"M0 0h24v24H0V0z\" fill=\"none\"/>\n",
              "    <path d=\"M18.56 5.44l.94 2.06.94-2.06 2.06-.94-2.06-.94-.94-2.06-.94 2.06-2.06.94zm-11 1L8.5 8.5l.94-2.06 2.06-.94-2.06-.94L8.5 2.5l-.94 2.06-2.06.94zm10 10l.94 2.06.94-2.06 2.06-.94-2.06-.94-.94-2.06-.94 2.06-2.06.94z\"/><path d=\"M17.41 7.96l-1.37-1.37c-.4-.4-.92-.59-1.43-.59-.52 0-1.04.2-1.43.59L10.3 9.45l-7.72 7.72c-.78.78-.78 2.05 0 2.83L4 21.41c.39.39.9.59 1.41.59.51 0 1.02-.2 1.41-.59l7.78-7.78 2.81-2.81c.8-.78.8-2.07 0-2.86zM5.41 20L4 18.59l7.72-7.72 1.47 1.35L5.41 20z\"/>\n",
              "  </svg>\n",
              "      </button>\n",
              "      \n",
              "  <style>\n",
              "    .colab-df-container {\n",
              "      display:flex;\n",
              "      flex-wrap:wrap;\n",
              "      gap: 12px;\n",
              "    }\n",
              "\n",
              "    .colab-df-convert {\n",
              "      background-color: #E8F0FE;\n",
              "      border: none;\n",
              "      border-radius: 50%;\n",
              "      cursor: pointer;\n",
              "      display: none;\n",
              "      fill: #1967D2;\n",
              "      height: 32px;\n",
              "      padding: 0 0 0 0;\n",
              "      width: 32px;\n",
              "    }\n",
              "\n",
              "    .colab-df-convert:hover {\n",
              "      background-color: #E2EBFA;\n",
              "      box-shadow: 0px 1px 2px rgba(60, 64, 67, 0.3), 0px 1px 3px 1px rgba(60, 64, 67, 0.15);\n",
              "      fill: #174EA6;\n",
              "    }\n",
              "\n",
              "    [theme=dark] .colab-df-convert {\n",
              "      background-color: #3B4455;\n",
              "      fill: #D2E3FC;\n",
              "    }\n",
              "\n",
              "    [theme=dark] .colab-df-convert:hover {\n",
              "      background-color: #434B5C;\n",
              "      box-shadow: 0px 1px 3px 1px rgba(0, 0, 0, 0.15);\n",
              "      filter: drop-shadow(0px 1px 2px rgba(0, 0, 0, 0.3));\n",
              "      fill: #FFFFFF;\n",
              "    }\n",
              "  </style>\n",
              "\n",
              "      <script>\n",
              "        const buttonEl =\n",
              "          document.querySelector('#df-8426245b-4a55-493c-a891-3322a5df5085 button.colab-df-convert');\n",
              "        buttonEl.style.display =\n",
              "          google.colab.kernel.accessAllowed ? 'block' : 'none';\n",
              "\n",
              "        async function convertToInteractive(key) {\n",
              "          const element = document.querySelector('#df-8426245b-4a55-493c-a891-3322a5df5085');\n",
              "          const dataTable =\n",
              "            await google.colab.kernel.invokeFunction('convertToInteractive',\n",
              "                                                     [key], {});\n",
              "          if (!dataTable) return;\n",
              "\n",
              "          const docLinkHtml = 'Like what you see? Visit the ' +\n",
              "            '<a target=\"_blank\" href=https://colab.research.google.com/notebooks/data_table.ipynb>data table notebook</a>'\n",
              "            + ' to learn more about interactive tables.';\n",
              "          element.innerHTML = '';\n",
              "          dataTable['output_type'] = 'display_data';\n",
              "          await google.colab.output.renderOutput(dataTable, element);\n",
              "          const docLink = document.createElement('div');\n",
              "          docLink.innerHTML = docLinkHtml;\n",
              "          element.appendChild(docLink);\n",
              "        }\n",
              "      </script>\n",
              "    </div>\n",
              "  </div>\n",
              "  "
            ]
          },
          "metadata": {},
          "execution_count": 24
        }
      ]
    },
    {
      "cell_type": "code",
      "source": [
        "df[\"Year\"].value_counts()  ##2014-2017->26.07,  2007-2013->45.2,  2002-2006->28.664"
      ],
      "metadata": {
        "colab": {
          "base_uri": "https://localhost:8080/"
        },
        "id": "dvMVb9dU_GqX",
        "outputId": "9b30d911-b793-4470-b088-166ad708a41b"
      },
      "execution_count": 25,
      "outputs": [
        {
          "output_type": "execute_result",
          "data": {
            "text/plain": [
              "2011    10079\n",
              "2014     9710\n",
              "2010     9683\n",
              "2016     9643\n",
              "2013     9604\n",
              "2009     9525\n",
              "2015     9518\n",
              "2012     9359\n",
              "2017     9336\n",
              "2008     9148\n",
              "2007     8937\n",
              "2006     8737\n",
              "2005     8558\n",
              "2004     8388\n",
              "2003     8260\n",
              "2002     8065\n",
              "Name: Year, dtype: int64"
            ]
          },
          "metadata": {},
          "execution_count": 25
        }
      ]
    },
    {
      "cell_type": "code",
      "source": [
        "df.shape"
      ],
      "metadata": {
        "colab": {
          "base_uri": "https://localhost:8080/"
        },
        "id": "1ZdpIJyM_-fu",
        "outputId": "d0776d6c-f9f9-48c1-99dc-611ff9508887"
      },
      "execution_count": 26,
      "outputs": [
        {
          "output_type": "execute_result",
          "data": {
            "text/plain": [
              "(146550, 10)"
            ]
          },
          "metadata": {},
          "execution_count": 26
        }
      ]
    },
    {
      "cell_type": "code",
      "execution_count": 27,
      "metadata": {
        "id": "YVDcSCNjhwRb"
      },
      "outputs": [],
      "source": [
        "df.drop(['Area_code','Item_code','Element_code','Year_code'],axis =1,inplace =True)"
      ]
    },
    {
      "cell_type": "code",
      "source": [
        "df.drop_duplicates()"
      ],
      "metadata": {
        "colab": {
          "base_uri": "https://localhost:8080/",
          "height": 424
        },
        "id": "dbdBtrXOXae9",
        "outputId": "bc664c3d-a8b1-45ea-f465-72ffd59d365c"
      },
      "execution_count": 28,
      "outputs": [
        {
          "output_type": "execute_result",
          "data": {
            "text/plain": [
              "           Area                                       Item          Element  \\\n",
              "0       Armenia                         Ammonia, anhydrous  Import Quantity   \n",
              "1       Armenia                         Ammonia, anhydrous  Import Quantity   \n",
              "2       Armenia                         Ammonia, anhydrous  Import Quantity   \n",
              "3       Armenia                         Ammonia, anhydrous  Import Quantity   \n",
              "4       Armenia                         Ammonia, anhydrous  Import Quantity   \n",
              "...         ...                                        ...              ...   \n",
              "146545    Sudan  Urea and ammonium nitrate solutions (UAN)     Import Value   \n",
              "146546    Sudan  Urea and ammonium nitrate solutions (UAN)     Import Value   \n",
              "146547    Sudan  Urea and ammonium nitrate solutions (UAN)     Import Value   \n",
              "146548    Sudan  Urea and ammonium nitrate solutions (UAN)     Import Value   \n",
              "146549    Sudan  Urea and ammonium nitrate solutions (UAN)     Import Value   \n",
              "\n",
              "        Year      Unit    Value  \n",
              "0       2006    tonnes     0.01  \n",
              "1       2007    tonnes    32.88  \n",
              "2       2008    tonnes    62.19  \n",
              "3       2009    tonnes   119.93  \n",
              "4       2010    tonnes    94.17  \n",
              "...      ...       ...      ...  \n",
              "146545  2013  1000 US$   832.49  \n",
              "146546  2014  1000 US$   557.58  \n",
              "146547  2015  1000 US$   233.38  \n",
              "146548  2016  1000 US$  1034.35  \n",
              "146549  2017  1000 US$   554.35  \n",
              "\n",
              "[144689 rows x 6 columns]"
            ],
            "text/html": [
              "\n",
              "  <div id=\"df-f0caf87f-9098-489a-8cb8-00c50b5e2015\">\n",
              "    <div class=\"colab-df-container\">\n",
              "      <div>\n",
              "<style scoped>\n",
              "    .dataframe tbody tr th:only-of-type {\n",
              "        vertical-align: middle;\n",
              "    }\n",
              "\n",
              "    .dataframe tbody tr th {\n",
              "        vertical-align: top;\n",
              "    }\n",
              "\n",
              "    .dataframe thead th {\n",
              "        text-align: right;\n",
              "    }\n",
              "</style>\n",
              "<table border=\"1\" class=\"dataframe\">\n",
              "  <thead>\n",
              "    <tr style=\"text-align: right;\">\n",
              "      <th></th>\n",
              "      <th>Area</th>\n",
              "      <th>Item</th>\n",
              "      <th>Element</th>\n",
              "      <th>Year</th>\n",
              "      <th>Unit</th>\n",
              "      <th>Value</th>\n",
              "    </tr>\n",
              "  </thead>\n",
              "  <tbody>\n",
              "    <tr>\n",
              "      <th>0</th>\n",
              "      <td>Armenia</td>\n",
              "      <td>Ammonia, anhydrous</td>\n",
              "      <td>Import Quantity</td>\n",
              "      <td>2006</td>\n",
              "      <td>tonnes</td>\n",
              "      <td>0.01</td>\n",
              "    </tr>\n",
              "    <tr>\n",
              "      <th>1</th>\n",
              "      <td>Armenia</td>\n",
              "      <td>Ammonia, anhydrous</td>\n",
              "      <td>Import Quantity</td>\n",
              "      <td>2007</td>\n",
              "      <td>tonnes</td>\n",
              "      <td>32.88</td>\n",
              "    </tr>\n",
              "    <tr>\n",
              "      <th>2</th>\n",
              "      <td>Armenia</td>\n",
              "      <td>Ammonia, anhydrous</td>\n",
              "      <td>Import Quantity</td>\n",
              "      <td>2008</td>\n",
              "      <td>tonnes</td>\n",
              "      <td>62.19</td>\n",
              "    </tr>\n",
              "    <tr>\n",
              "      <th>3</th>\n",
              "      <td>Armenia</td>\n",
              "      <td>Ammonia, anhydrous</td>\n",
              "      <td>Import Quantity</td>\n",
              "      <td>2009</td>\n",
              "      <td>tonnes</td>\n",
              "      <td>119.93</td>\n",
              "    </tr>\n",
              "    <tr>\n",
              "      <th>4</th>\n",
              "      <td>Armenia</td>\n",
              "      <td>Ammonia, anhydrous</td>\n",
              "      <td>Import Quantity</td>\n",
              "      <td>2010</td>\n",
              "      <td>tonnes</td>\n",
              "      <td>94.17</td>\n",
              "    </tr>\n",
              "    <tr>\n",
              "      <th>...</th>\n",
              "      <td>...</td>\n",
              "      <td>...</td>\n",
              "      <td>...</td>\n",
              "      <td>...</td>\n",
              "      <td>...</td>\n",
              "      <td>...</td>\n",
              "    </tr>\n",
              "    <tr>\n",
              "      <th>146545</th>\n",
              "      <td>Sudan</td>\n",
              "      <td>Urea and ammonium nitrate solutions (UAN)</td>\n",
              "      <td>Import Value</td>\n",
              "      <td>2013</td>\n",
              "      <td>1000 US$</td>\n",
              "      <td>832.49</td>\n",
              "    </tr>\n",
              "    <tr>\n",
              "      <th>146546</th>\n",
              "      <td>Sudan</td>\n",
              "      <td>Urea and ammonium nitrate solutions (UAN)</td>\n",
              "      <td>Import Value</td>\n",
              "      <td>2014</td>\n",
              "      <td>1000 US$</td>\n",
              "      <td>557.58</td>\n",
              "    </tr>\n",
              "    <tr>\n",
              "      <th>146547</th>\n",
              "      <td>Sudan</td>\n",
              "      <td>Urea and ammonium nitrate solutions (UAN)</td>\n",
              "      <td>Import Value</td>\n",
              "      <td>2015</td>\n",
              "      <td>1000 US$</td>\n",
              "      <td>233.38</td>\n",
              "    </tr>\n",
              "    <tr>\n",
              "      <th>146548</th>\n",
              "      <td>Sudan</td>\n",
              "      <td>Urea and ammonium nitrate solutions (UAN)</td>\n",
              "      <td>Import Value</td>\n",
              "      <td>2016</td>\n",
              "      <td>1000 US$</td>\n",
              "      <td>1034.35</td>\n",
              "    </tr>\n",
              "    <tr>\n",
              "      <th>146549</th>\n",
              "      <td>Sudan</td>\n",
              "      <td>Urea and ammonium nitrate solutions (UAN)</td>\n",
              "      <td>Import Value</td>\n",
              "      <td>2017</td>\n",
              "      <td>1000 US$</td>\n",
              "      <td>554.35</td>\n",
              "    </tr>\n",
              "  </tbody>\n",
              "</table>\n",
              "<p>144689 rows × 6 columns</p>\n",
              "</div>\n",
              "      <button class=\"colab-df-convert\" onclick=\"convertToInteractive('df-f0caf87f-9098-489a-8cb8-00c50b5e2015')\"\n",
              "              title=\"Convert this dataframe to an interactive table.\"\n",
              "              style=\"display:none;\">\n",
              "        \n",
              "  <svg xmlns=\"http://www.w3.org/2000/svg\" height=\"24px\"viewBox=\"0 0 24 24\"\n",
              "       width=\"24px\">\n",
              "    <path d=\"M0 0h24v24H0V0z\" fill=\"none\"/>\n",
              "    <path d=\"M18.56 5.44l.94 2.06.94-2.06 2.06-.94-2.06-.94-.94-2.06-.94 2.06-2.06.94zm-11 1L8.5 8.5l.94-2.06 2.06-.94-2.06-.94L8.5 2.5l-.94 2.06-2.06.94zm10 10l.94 2.06.94-2.06 2.06-.94-2.06-.94-.94-2.06-.94 2.06-2.06.94z\"/><path d=\"M17.41 7.96l-1.37-1.37c-.4-.4-.92-.59-1.43-.59-.52 0-1.04.2-1.43.59L10.3 9.45l-7.72 7.72c-.78.78-.78 2.05 0 2.83L4 21.41c.39.39.9.59 1.41.59.51 0 1.02-.2 1.41-.59l7.78-7.78 2.81-2.81c.8-.78.8-2.07 0-2.86zM5.41 20L4 18.59l7.72-7.72 1.47 1.35L5.41 20z\"/>\n",
              "  </svg>\n",
              "      </button>\n",
              "      \n",
              "  <style>\n",
              "    .colab-df-container {\n",
              "      display:flex;\n",
              "      flex-wrap:wrap;\n",
              "      gap: 12px;\n",
              "    }\n",
              "\n",
              "    .colab-df-convert {\n",
              "      background-color: #E8F0FE;\n",
              "      border: none;\n",
              "      border-radius: 50%;\n",
              "      cursor: pointer;\n",
              "      display: none;\n",
              "      fill: #1967D2;\n",
              "      height: 32px;\n",
              "      padding: 0 0 0 0;\n",
              "      width: 32px;\n",
              "    }\n",
              "\n",
              "    .colab-df-convert:hover {\n",
              "      background-color: #E2EBFA;\n",
              "      box-shadow: 0px 1px 2px rgba(60, 64, 67, 0.3), 0px 1px 3px 1px rgba(60, 64, 67, 0.15);\n",
              "      fill: #174EA6;\n",
              "    }\n",
              "\n",
              "    [theme=dark] .colab-df-convert {\n",
              "      background-color: #3B4455;\n",
              "      fill: #D2E3FC;\n",
              "    }\n",
              "\n",
              "    [theme=dark] .colab-df-convert:hover {\n",
              "      background-color: #434B5C;\n",
              "      box-shadow: 0px 1px 3px 1px rgba(0, 0, 0, 0.15);\n",
              "      filter: drop-shadow(0px 1px 2px rgba(0, 0, 0, 0.3));\n",
              "      fill: #FFFFFF;\n",
              "    }\n",
              "  </style>\n",
              "\n",
              "      <script>\n",
              "        const buttonEl =\n",
              "          document.querySelector('#df-f0caf87f-9098-489a-8cb8-00c50b5e2015 button.colab-df-convert');\n",
              "        buttonEl.style.display =\n",
              "          google.colab.kernel.accessAllowed ? 'block' : 'none';\n",
              "\n",
              "        async function convertToInteractive(key) {\n",
              "          const element = document.querySelector('#df-f0caf87f-9098-489a-8cb8-00c50b5e2015');\n",
              "          const dataTable =\n",
              "            await google.colab.kernel.invokeFunction('convertToInteractive',\n",
              "                                                     [key], {});\n",
              "          if (!dataTable) return;\n",
              "\n",
              "          const docLinkHtml = 'Like what you see? Visit the ' +\n",
              "            '<a target=\"_blank\" href=https://colab.research.google.com/notebooks/data_table.ipynb>data table notebook</a>'\n",
              "            + ' to learn more about interactive tables.';\n",
              "          element.innerHTML = '';\n",
              "          dataTable['output_type'] = 'display_data';\n",
              "          await google.colab.output.renderOutput(dataTable, element);\n",
              "          const docLink = document.createElement('div');\n",
              "          docLink.innerHTML = docLinkHtml;\n",
              "          element.appendChild(docLink);\n",
              "        }\n",
              "      </script>\n",
              "    </div>\n",
              "  </div>\n",
              "  "
            ]
          },
          "metadata": {},
          "execution_count": 28
        }
      ]
    },
    {
      "cell_type": "code",
      "execution_count": 29,
      "metadata": {
        "colab": {
          "base_uri": "https://localhost:8080/"
        },
        "id": "EvaBPClVlJms",
        "outputId": "2bb51c8f-9eb9-4018-9ebe-8ebe8b47880b"
      },
      "outputs": [
        {
          "output_type": "stream",
          "name": "stdout",
          "text": [
            "(146550, 175)\n"
          ]
        }
      ],
      "source": [
        "df1=pd.get_dummies(df,columns=['Area','Element','Item','Unit'],drop_first =True)\n",
        "print(df1.shape)"
      ]
    },
    {
      "cell_type": "code",
      "execution_count": 30,
      "metadata": {
        "colab": {
          "base_uri": "https://localhost:8080/"
        },
        "id": "ILkFxRhdt_xR",
        "outputId": "28670cc2-168a-4433-95b3-bc73cdfe4616"
      },
      "outputs": [
        {
          "output_type": "execute_result",
          "data": {
            "text/plain": [
              "Index(['Year', 'Value', 'Area_Albania', 'Area_Algeria', 'Area_Angola',\n",
              "       'Area_Argentina', 'Area_Armenia', 'Area_Australia', 'Area_Austria',\n",
              "       'Area_Azerbaijan',\n",
              "       ...\n",
              "       'Item_Phosphate rock',\n",
              "       'Item_Potassium chloride (muriate of potash) (MOP)',\n",
              "       'Item_Potassium nitrate',\n",
              "       'Item_Potassium sulphate (sulphate of potash) (SOP)',\n",
              "       'Item_Sodium nitrate', 'Item_Superphosphates above 35%',\n",
              "       'Item_Superphosphates, other', 'Item_Urea',\n",
              "       'Item_Urea and ammonium nitrate solutions (UAN)', 'Unit_tonnes'],\n",
              "      dtype='object', length=175)"
            ]
          },
          "metadata": {},
          "execution_count": 30
        }
      ],
      "source": [
        "df1.columns"
      ]
    },
    {
      "cell_type": "code",
      "execution_count": 31,
      "metadata": {
        "colab": {
          "base_uri": "https://localhost:8080/"
        },
        "id": "V5XEC9-Rr0IJ",
        "outputId": "59553bf5-e66a-44b0-e1de-f553ffaf2a0d"
      },
      "outputs": [
        {
          "output_type": "stream",
          "name": "stdout",
          "text": [
            "<class 'pandas.core.frame.DataFrame'>\n",
            "RangeIndex: 146550 entries, 0 to 146549\n",
            "Columns: 175 entries, Year to Unit_tonnes\n",
            "dtypes: float64(1), int64(1), uint8(173)\n",
            "memory usage: 26.4 MB\n"
          ]
        }
      ],
      "source": [
        "df1.info()"
      ]
    },
    {
      "cell_type": "code",
      "execution_count": 32,
      "metadata": {
        "colab": {
          "base_uri": "https://localhost:8080/",
          "height": 261
        },
        "id": "Bj8J4vxtvF5z",
        "outputId": "5475a781-f4ba-408e-efc5-fe860f2e3bb1"
      },
      "outputs": [
        {
          "output_type": "execute_result",
          "data": {
            "text/plain": [
              "   Year  Value  Area_Albania  Area_Algeria  Area_Angola  Area_Argentina  \\\n",
              "0  2006   0.01             0             0            0               0   \n",
              "\n",
              "   Area_Armenia  Area_Australia  Area_Austria  Area_Azerbaijan  ...  \\\n",
              "0             1               0             0                0  ...   \n",
              "\n",
              "   Item_Phosphate rock  Item_Potassium chloride (muriate of potash) (MOP)  \\\n",
              "0                    0                                                  0   \n",
              "\n",
              "   Item_Potassium nitrate  Item_Potassium sulphate (sulphate of potash) (SOP)  \\\n",
              "0                       0                                                  0    \n",
              "\n",
              "   Item_Sodium nitrate  Item_Superphosphates above 35%  \\\n",
              "0                    0                               0   \n",
              "\n",
              "   Item_Superphosphates, other  Item_Urea  \\\n",
              "0                            0          0   \n",
              "\n",
              "   Item_Urea and ammonium nitrate solutions (UAN)  Unit_tonnes  \n",
              "0                                               0            1  \n",
              "\n",
              "[1 rows x 175 columns]"
            ],
            "text/html": [
              "\n",
              "  <div id=\"df-1bdc8b87-81a2-4798-bbb0-4cdb7a6ade99\">\n",
              "    <div class=\"colab-df-container\">\n",
              "      <div>\n",
              "<style scoped>\n",
              "    .dataframe tbody tr th:only-of-type {\n",
              "        vertical-align: middle;\n",
              "    }\n",
              "\n",
              "    .dataframe tbody tr th {\n",
              "        vertical-align: top;\n",
              "    }\n",
              "\n",
              "    .dataframe thead th {\n",
              "        text-align: right;\n",
              "    }\n",
              "</style>\n",
              "<table border=\"1\" class=\"dataframe\">\n",
              "  <thead>\n",
              "    <tr style=\"text-align: right;\">\n",
              "      <th></th>\n",
              "      <th>Year</th>\n",
              "      <th>Value</th>\n",
              "      <th>Area_Albania</th>\n",
              "      <th>Area_Algeria</th>\n",
              "      <th>Area_Angola</th>\n",
              "      <th>Area_Argentina</th>\n",
              "      <th>Area_Armenia</th>\n",
              "      <th>Area_Australia</th>\n",
              "      <th>Area_Austria</th>\n",
              "      <th>Area_Azerbaijan</th>\n",
              "      <th>...</th>\n",
              "      <th>Item_Phosphate rock</th>\n",
              "      <th>Item_Potassium chloride (muriate of potash) (MOP)</th>\n",
              "      <th>Item_Potassium nitrate</th>\n",
              "      <th>Item_Potassium sulphate (sulphate of potash) (SOP)</th>\n",
              "      <th>Item_Sodium nitrate</th>\n",
              "      <th>Item_Superphosphates above 35%</th>\n",
              "      <th>Item_Superphosphates, other</th>\n",
              "      <th>Item_Urea</th>\n",
              "      <th>Item_Urea and ammonium nitrate solutions (UAN)</th>\n",
              "      <th>Unit_tonnes</th>\n",
              "    </tr>\n",
              "  </thead>\n",
              "  <tbody>\n",
              "    <tr>\n",
              "      <th>0</th>\n",
              "      <td>2006</td>\n",
              "      <td>0.01</td>\n",
              "      <td>0</td>\n",
              "      <td>0</td>\n",
              "      <td>0</td>\n",
              "      <td>0</td>\n",
              "      <td>1</td>\n",
              "      <td>0</td>\n",
              "      <td>0</td>\n",
              "      <td>0</td>\n",
              "      <td>...</td>\n",
              "      <td>0</td>\n",
              "      <td>0</td>\n",
              "      <td>0</td>\n",
              "      <td>0</td>\n",
              "      <td>0</td>\n",
              "      <td>0</td>\n",
              "      <td>0</td>\n",
              "      <td>0</td>\n",
              "      <td>0</td>\n",
              "      <td>1</td>\n",
              "    </tr>\n",
              "  </tbody>\n",
              "</table>\n",
              "<p>1 rows × 175 columns</p>\n",
              "</div>\n",
              "      <button class=\"colab-df-convert\" onclick=\"convertToInteractive('df-1bdc8b87-81a2-4798-bbb0-4cdb7a6ade99')\"\n",
              "              title=\"Convert this dataframe to an interactive table.\"\n",
              "              style=\"display:none;\">\n",
              "        \n",
              "  <svg xmlns=\"http://www.w3.org/2000/svg\" height=\"24px\"viewBox=\"0 0 24 24\"\n",
              "       width=\"24px\">\n",
              "    <path d=\"M0 0h24v24H0V0z\" fill=\"none\"/>\n",
              "    <path d=\"M18.56 5.44l.94 2.06.94-2.06 2.06-.94-2.06-.94-.94-2.06-.94 2.06-2.06.94zm-11 1L8.5 8.5l.94-2.06 2.06-.94-2.06-.94L8.5 2.5l-.94 2.06-2.06.94zm10 10l.94 2.06.94-2.06 2.06-.94-2.06-.94-.94-2.06-.94 2.06-2.06.94z\"/><path d=\"M17.41 7.96l-1.37-1.37c-.4-.4-.92-.59-1.43-.59-.52 0-1.04.2-1.43.59L10.3 9.45l-7.72 7.72c-.78.78-.78 2.05 0 2.83L4 21.41c.39.39.9.59 1.41.59.51 0 1.02-.2 1.41-.59l7.78-7.78 2.81-2.81c.8-.78.8-2.07 0-2.86zM5.41 20L4 18.59l7.72-7.72 1.47 1.35L5.41 20z\"/>\n",
              "  </svg>\n",
              "      </button>\n",
              "      \n",
              "  <style>\n",
              "    .colab-df-container {\n",
              "      display:flex;\n",
              "      flex-wrap:wrap;\n",
              "      gap: 12px;\n",
              "    }\n",
              "\n",
              "    .colab-df-convert {\n",
              "      background-color: #E8F0FE;\n",
              "      border: none;\n",
              "      border-radius: 50%;\n",
              "      cursor: pointer;\n",
              "      display: none;\n",
              "      fill: #1967D2;\n",
              "      height: 32px;\n",
              "      padding: 0 0 0 0;\n",
              "      width: 32px;\n",
              "    }\n",
              "\n",
              "    .colab-df-convert:hover {\n",
              "      background-color: #E2EBFA;\n",
              "      box-shadow: 0px 1px 2px rgba(60, 64, 67, 0.3), 0px 1px 3px 1px rgba(60, 64, 67, 0.15);\n",
              "      fill: #174EA6;\n",
              "    }\n",
              "\n",
              "    [theme=dark] .colab-df-convert {\n",
              "      background-color: #3B4455;\n",
              "      fill: #D2E3FC;\n",
              "    }\n",
              "\n",
              "    [theme=dark] .colab-df-convert:hover {\n",
              "      background-color: #434B5C;\n",
              "      box-shadow: 0px 1px 3px 1px rgba(0, 0, 0, 0.15);\n",
              "      filter: drop-shadow(0px 1px 2px rgba(0, 0, 0, 0.3));\n",
              "      fill: #FFFFFF;\n",
              "    }\n",
              "  </style>\n",
              "\n",
              "      <script>\n",
              "        const buttonEl =\n",
              "          document.querySelector('#df-1bdc8b87-81a2-4798-bbb0-4cdb7a6ade99 button.colab-df-convert');\n",
              "        buttonEl.style.display =\n",
              "          google.colab.kernel.accessAllowed ? 'block' : 'none';\n",
              "\n",
              "        async function convertToInteractive(key) {\n",
              "          const element = document.querySelector('#df-1bdc8b87-81a2-4798-bbb0-4cdb7a6ade99');\n",
              "          const dataTable =\n",
              "            await google.colab.kernel.invokeFunction('convertToInteractive',\n",
              "                                                     [key], {});\n",
              "          if (!dataTable) return;\n",
              "\n",
              "          const docLinkHtml = 'Like what you see? Visit the ' +\n",
              "            '<a target=\"_blank\" href=https://colab.research.google.com/notebooks/data_table.ipynb>data table notebook</a>'\n",
              "            + ' to learn more about interactive tables.';\n",
              "          element.innerHTML = '';\n",
              "          dataTable['output_type'] = 'display_data';\n",
              "          await google.colab.output.renderOutput(dataTable, element);\n",
              "          const docLink = document.createElement('div');\n",
              "          docLink.innerHTML = docLinkHtml;\n",
              "          element.appendChild(docLink);\n",
              "        }\n",
              "      </script>\n",
              "    </div>\n",
              "  </div>\n",
              "  "
            ]
          },
          "metadata": {},
          "execution_count": 32
        }
      ],
      "source": [
        "df1.head(1)"
      ]
    },
    {
      "cell_type": "code",
      "execution_count": 33,
      "metadata": {
        "id": "S1wQL7s4F91z"
      },
      "outputs": [],
      "source": [
        "Y= df1['Value']"
      ]
    },
    {
      "cell_type": "code",
      "source": [
        "df1.drop(\"Value\",inplace=True,axis=1)"
      ],
      "metadata": {
        "id": "7nVrcuCPZMxo"
      },
      "execution_count": 34,
      "outputs": []
    },
    {
      "cell_type": "code",
      "source": [
        "from sklearn.preprocessing import MinMaxScaler\n",
        "scaler = MinMaxScaler()\n",
        "df2=pd.DataFrame(data=scaler.fit_transform(df1),columns=df1.columns)"
      ],
      "metadata": {
        "id": "PIOMdo92ZQ5T"
      },
      "execution_count": 35,
      "outputs": []
    },
    {
      "cell_type": "code",
      "execution_count": 36,
      "metadata": {
        "id": "_q74PeBqvflP",
        "colab": {
          "base_uri": "https://localhost:8080/",
          "height": 463
        },
        "outputId": "3e43ea7d-9151-48cc-d1a7-ffe46e9dda44"
      },
      "outputs": [
        {
          "output_type": "execute_result",
          "data": {
            "text/plain": [
              "                Year   Area_Albania   Area_Algeria    Area_Angola  \\\n",
              "count  146550.000000  146550.000000  146550.000000  146550.000000   \n",
              "mean        0.516143       0.005827       0.006633       0.005329   \n",
              "std         0.302901       0.076115       0.081170       0.072807   \n",
              "min         0.000000       0.000000       0.000000       0.000000   \n",
              "25%         0.266667       0.000000       0.000000       0.000000   \n",
              "50%         0.533333       0.000000       0.000000       0.000000   \n",
              "75%         0.800000       0.000000       0.000000       0.000000   \n",
              "max         1.000000       1.000000       1.000000       1.000000   \n",
              "\n",
              "       Area_Argentina   Area_Armenia  Area_Australia   Area_Austria  \\\n",
              "count   146550.000000  146550.000000   146550.000000  146550.000000   \n",
              "mean         0.009608       0.003978        0.009969       0.008461   \n",
              "std          0.097547       0.062947        0.099348       0.091596   \n",
              "min          0.000000       0.000000        0.000000       0.000000   \n",
              "25%          0.000000       0.000000        0.000000       0.000000   \n",
              "50%          0.000000       0.000000        0.000000       0.000000   \n",
              "75%          0.000000       0.000000        0.000000       0.000000   \n",
              "max          1.000000       1.000000        1.000000       1.000000   \n",
              "\n",
              "       Area_Azerbaijan   Area_Bahrain  ...  Item_Phosphate rock  \\\n",
              "count    146550.000000  146550.000000  ...        146550.000000   \n",
              "mean          0.005609       0.004817  ...             0.041494   \n",
              "std           0.074683       0.069241  ...             0.199431   \n",
              "min           0.000000       0.000000  ...             0.000000   \n",
              "25%           0.000000       0.000000  ...             0.000000   \n",
              "50%           0.000000       0.000000  ...             0.000000   \n",
              "75%           0.000000       0.000000  ...             0.000000   \n",
              "max           1.000000       1.000000  ...             1.000000   \n",
              "\n",
              "       Item_Potassium chloride (muriate of potash) (MOP)  \\\n",
              "count                                      146550.000000   \n",
              "mean                                            0.054159   \n",
              "std                                             0.226332   \n",
              "min                                             0.000000   \n",
              "25%                                             0.000000   \n",
              "50%                                             0.000000   \n",
              "75%                                             0.000000   \n",
              "max                                             1.000000   \n",
              "\n",
              "       Item_Potassium nitrate  \\\n",
              "count           146550.000000   \n",
              "mean                 0.046196   \n",
              "std                  0.209910   \n",
              "min                  0.000000   \n",
              "25%                  0.000000   \n",
              "50%                  0.000000   \n",
              "75%                  0.000000   \n",
              "max                  1.000000   \n",
              "\n",
              "       Item_Potassium sulphate (sulphate of potash) (SOP)  \\\n",
              "count                                      146550.000000    \n",
              "mean                                            0.047281    \n",
              "std                                             0.212240    \n",
              "min                                             0.000000    \n",
              "25%                                             0.000000    \n",
              "50%                                             0.000000    \n",
              "75%                                             0.000000    \n",
              "max                                             1.000000    \n",
              "\n",
              "       Item_Sodium nitrate  Item_Superphosphates above 35%  \\\n",
              "count        146550.000000                   146550.000000   \n",
              "mean              0.036035                        0.043896   \n",
              "std               0.186379                        0.204865   \n",
              "min               0.000000                        0.000000   \n",
              "25%               0.000000                        0.000000   \n",
              "50%               0.000000                        0.000000   \n",
              "75%               0.000000                        0.000000   \n",
              "max               1.000000                        1.000000   \n",
              "\n",
              "       Item_Superphosphates, other      Item_Urea  \\\n",
              "count                146550.000000  146550.000000   \n",
              "mean                      0.006844       0.064074   \n",
              "std                       0.082446       0.244885   \n",
              "min                       0.000000       0.000000   \n",
              "25%                       0.000000       0.000000   \n",
              "50%                       0.000000       0.000000   \n",
              "75%                       0.000000       0.000000   \n",
              "max                       1.000000       1.000000   \n",
              "\n",
              "       Item_Urea and ammonium nitrate solutions (UAN)    Unit_tonnes  \n",
              "count                                   146550.000000  146550.000000  \n",
              "mean                                         0.028243       0.566346  \n",
              "std                                          0.165667       0.495580  \n",
              "min                                          0.000000       0.000000  \n",
              "25%                                          0.000000       0.000000  \n",
              "50%                                          0.000000       1.000000  \n",
              "75%                                          0.000000       1.000000  \n",
              "max                                          1.000000       1.000000  \n",
              "\n",
              "[8 rows x 174 columns]"
            ],
            "text/html": [
              "\n",
              "  <div id=\"df-e33857f4-de74-496d-844b-ed7ff19d7035\">\n",
              "    <div class=\"colab-df-container\">\n",
              "      <div>\n",
              "<style scoped>\n",
              "    .dataframe tbody tr th:only-of-type {\n",
              "        vertical-align: middle;\n",
              "    }\n",
              "\n",
              "    .dataframe tbody tr th {\n",
              "        vertical-align: top;\n",
              "    }\n",
              "\n",
              "    .dataframe thead th {\n",
              "        text-align: right;\n",
              "    }\n",
              "</style>\n",
              "<table border=\"1\" class=\"dataframe\">\n",
              "  <thead>\n",
              "    <tr style=\"text-align: right;\">\n",
              "      <th></th>\n",
              "      <th>Year</th>\n",
              "      <th>Area_Albania</th>\n",
              "      <th>Area_Algeria</th>\n",
              "      <th>Area_Angola</th>\n",
              "      <th>Area_Argentina</th>\n",
              "      <th>Area_Armenia</th>\n",
              "      <th>Area_Australia</th>\n",
              "      <th>Area_Austria</th>\n",
              "      <th>Area_Azerbaijan</th>\n",
              "      <th>Area_Bahrain</th>\n",
              "      <th>...</th>\n",
              "      <th>Item_Phosphate rock</th>\n",
              "      <th>Item_Potassium chloride (muriate of potash) (MOP)</th>\n",
              "      <th>Item_Potassium nitrate</th>\n",
              "      <th>Item_Potassium sulphate (sulphate of potash) (SOP)</th>\n",
              "      <th>Item_Sodium nitrate</th>\n",
              "      <th>Item_Superphosphates above 35%</th>\n",
              "      <th>Item_Superphosphates, other</th>\n",
              "      <th>Item_Urea</th>\n",
              "      <th>Item_Urea and ammonium nitrate solutions (UAN)</th>\n",
              "      <th>Unit_tonnes</th>\n",
              "    </tr>\n",
              "  </thead>\n",
              "  <tbody>\n",
              "    <tr>\n",
              "      <th>count</th>\n",
              "      <td>146550.000000</td>\n",
              "      <td>146550.000000</td>\n",
              "      <td>146550.000000</td>\n",
              "      <td>146550.000000</td>\n",
              "      <td>146550.000000</td>\n",
              "      <td>146550.000000</td>\n",
              "      <td>146550.000000</td>\n",
              "      <td>146550.000000</td>\n",
              "      <td>146550.000000</td>\n",
              "      <td>146550.000000</td>\n",
              "      <td>...</td>\n",
              "      <td>146550.000000</td>\n",
              "      <td>146550.000000</td>\n",
              "      <td>146550.000000</td>\n",
              "      <td>146550.000000</td>\n",
              "      <td>146550.000000</td>\n",
              "      <td>146550.000000</td>\n",
              "      <td>146550.000000</td>\n",
              "      <td>146550.000000</td>\n",
              "      <td>146550.000000</td>\n",
              "      <td>146550.000000</td>\n",
              "    </tr>\n",
              "    <tr>\n",
              "      <th>mean</th>\n",
              "      <td>0.516143</td>\n",
              "      <td>0.005827</td>\n",
              "      <td>0.006633</td>\n",
              "      <td>0.005329</td>\n",
              "      <td>0.009608</td>\n",
              "      <td>0.003978</td>\n",
              "      <td>0.009969</td>\n",
              "      <td>0.008461</td>\n",
              "      <td>0.005609</td>\n",
              "      <td>0.004817</td>\n",
              "      <td>...</td>\n",
              "      <td>0.041494</td>\n",
              "      <td>0.054159</td>\n",
              "      <td>0.046196</td>\n",
              "      <td>0.047281</td>\n",
              "      <td>0.036035</td>\n",
              "      <td>0.043896</td>\n",
              "      <td>0.006844</td>\n",
              "      <td>0.064074</td>\n",
              "      <td>0.028243</td>\n",
              "      <td>0.566346</td>\n",
              "    </tr>\n",
              "    <tr>\n",
              "      <th>std</th>\n",
              "      <td>0.302901</td>\n",
              "      <td>0.076115</td>\n",
              "      <td>0.081170</td>\n",
              "      <td>0.072807</td>\n",
              "      <td>0.097547</td>\n",
              "      <td>0.062947</td>\n",
              "      <td>0.099348</td>\n",
              "      <td>0.091596</td>\n",
              "      <td>0.074683</td>\n",
              "      <td>0.069241</td>\n",
              "      <td>...</td>\n",
              "      <td>0.199431</td>\n",
              "      <td>0.226332</td>\n",
              "      <td>0.209910</td>\n",
              "      <td>0.212240</td>\n",
              "      <td>0.186379</td>\n",
              "      <td>0.204865</td>\n",
              "      <td>0.082446</td>\n",
              "      <td>0.244885</td>\n",
              "      <td>0.165667</td>\n",
              "      <td>0.495580</td>\n",
              "    </tr>\n",
              "    <tr>\n",
              "      <th>min</th>\n",
              "      <td>0.000000</td>\n",
              "      <td>0.000000</td>\n",
              "      <td>0.000000</td>\n",
              "      <td>0.000000</td>\n",
              "      <td>0.000000</td>\n",
              "      <td>0.000000</td>\n",
              "      <td>0.000000</td>\n",
              "      <td>0.000000</td>\n",
              "      <td>0.000000</td>\n",
              "      <td>0.000000</td>\n",
              "      <td>...</td>\n",
              "      <td>0.000000</td>\n",
              "      <td>0.000000</td>\n",
              "      <td>0.000000</td>\n",
              "      <td>0.000000</td>\n",
              "      <td>0.000000</td>\n",
              "      <td>0.000000</td>\n",
              "      <td>0.000000</td>\n",
              "      <td>0.000000</td>\n",
              "      <td>0.000000</td>\n",
              "      <td>0.000000</td>\n",
              "    </tr>\n",
              "    <tr>\n",
              "      <th>25%</th>\n",
              "      <td>0.266667</td>\n",
              "      <td>0.000000</td>\n",
              "      <td>0.000000</td>\n",
              "      <td>0.000000</td>\n",
              "      <td>0.000000</td>\n",
              "      <td>0.000000</td>\n",
              "      <td>0.000000</td>\n",
              "      <td>0.000000</td>\n",
              "      <td>0.000000</td>\n",
              "      <td>0.000000</td>\n",
              "      <td>...</td>\n",
              "      <td>0.000000</td>\n",
              "      <td>0.000000</td>\n",
              "      <td>0.000000</td>\n",
              "      <td>0.000000</td>\n",
              "      <td>0.000000</td>\n",
              "      <td>0.000000</td>\n",
              "      <td>0.000000</td>\n",
              "      <td>0.000000</td>\n",
              "      <td>0.000000</td>\n",
              "      <td>0.000000</td>\n",
              "    </tr>\n",
              "    <tr>\n",
              "      <th>50%</th>\n",
              "      <td>0.533333</td>\n",
              "      <td>0.000000</td>\n",
              "      <td>0.000000</td>\n",
              "      <td>0.000000</td>\n",
              "      <td>0.000000</td>\n",
              "      <td>0.000000</td>\n",
              "      <td>0.000000</td>\n",
              "      <td>0.000000</td>\n",
              "      <td>0.000000</td>\n",
              "      <td>0.000000</td>\n",
              "      <td>...</td>\n",
              "      <td>0.000000</td>\n",
              "      <td>0.000000</td>\n",
              "      <td>0.000000</td>\n",
              "      <td>0.000000</td>\n",
              "      <td>0.000000</td>\n",
              "      <td>0.000000</td>\n",
              "      <td>0.000000</td>\n",
              "      <td>0.000000</td>\n",
              "      <td>0.000000</td>\n",
              "      <td>1.000000</td>\n",
              "    </tr>\n",
              "    <tr>\n",
              "      <th>75%</th>\n",
              "      <td>0.800000</td>\n",
              "      <td>0.000000</td>\n",
              "      <td>0.000000</td>\n",
              "      <td>0.000000</td>\n",
              "      <td>0.000000</td>\n",
              "      <td>0.000000</td>\n",
              "      <td>0.000000</td>\n",
              "      <td>0.000000</td>\n",
              "      <td>0.000000</td>\n",
              "      <td>0.000000</td>\n",
              "      <td>...</td>\n",
              "      <td>0.000000</td>\n",
              "      <td>0.000000</td>\n",
              "      <td>0.000000</td>\n",
              "      <td>0.000000</td>\n",
              "      <td>0.000000</td>\n",
              "      <td>0.000000</td>\n",
              "      <td>0.000000</td>\n",
              "      <td>0.000000</td>\n",
              "      <td>0.000000</td>\n",
              "      <td>1.000000</td>\n",
              "    </tr>\n",
              "    <tr>\n",
              "      <th>max</th>\n",
              "      <td>1.000000</td>\n",
              "      <td>1.000000</td>\n",
              "      <td>1.000000</td>\n",
              "      <td>1.000000</td>\n",
              "      <td>1.000000</td>\n",
              "      <td>1.000000</td>\n",
              "      <td>1.000000</td>\n",
              "      <td>1.000000</td>\n",
              "      <td>1.000000</td>\n",
              "      <td>1.000000</td>\n",
              "      <td>...</td>\n",
              "      <td>1.000000</td>\n",
              "      <td>1.000000</td>\n",
              "      <td>1.000000</td>\n",
              "      <td>1.000000</td>\n",
              "      <td>1.000000</td>\n",
              "      <td>1.000000</td>\n",
              "      <td>1.000000</td>\n",
              "      <td>1.000000</td>\n",
              "      <td>1.000000</td>\n",
              "      <td>1.000000</td>\n",
              "    </tr>\n",
              "  </tbody>\n",
              "</table>\n",
              "<p>8 rows × 174 columns</p>\n",
              "</div>\n",
              "      <button class=\"colab-df-convert\" onclick=\"convertToInteractive('df-e33857f4-de74-496d-844b-ed7ff19d7035')\"\n",
              "              title=\"Convert this dataframe to an interactive table.\"\n",
              "              style=\"display:none;\">\n",
              "        \n",
              "  <svg xmlns=\"http://www.w3.org/2000/svg\" height=\"24px\"viewBox=\"0 0 24 24\"\n",
              "       width=\"24px\">\n",
              "    <path d=\"M0 0h24v24H0V0z\" fill=\"none\"/>\n",
              "    <path d=\"M18.56 5.44l.94 2.06.94-2.06 2.06-.94-2.06-.94-.94-2.06-.94 2.06-2.06.94zm-11 1L8.5 8.5l.94-2.06 2.06-.94-2.06-.94L8.5 2.5l-.94 2.06-2.06.94zm10 10l.94 2.06.94-2.06 2.06-.94-2.06-.94-.94-2.06-.94 2.06-2.06.94z\"/><path d=\"M17.41 7.96l-1.37-1.37c-.4-.4-.92-.59-1.43-.59-.52 0-1.04.2-1.43.59L10.3 9.45l-7.72 7.72c-.78.78-.78 2.05 0 2.83L4 21.41c.39.39.9.59 1.41.59.51 0 1.02-.2 1.41-.59l7.78-7.78 2.81-2.81c.8-.78.8-2.07 0-2.86zM5.41 20L4 18.59l7.72-7.72 1.47 1.35L5.41 20z\"/>\n",
              "  </svg>\n",
              "      </button>\n",
              "      \n",
              "  <style>\n",
              "    .colab-df-container {\n",
              "      display:flex;\n",
              "      flex-wrap:wrap;\n",
              "      gap: 12px;\n",
              "    }\n",
              "\n",
              "    .colab-df-convert {\n",
              "      background-color: #E8F0FE;\n",
              "      border: none;\n",
              "      border-radius: 50%;\n",
              "      cursor: pointer;\n",
              "      display: none;\n",
              "      fill: #1967D2;\n",
              "      height: 32px;\n",
              "      padding: 0 0 0 0;\n",
              "      width: 32px;\n",
              "    }\n",
              "\n",
              "    .colab-df-convert:hover {\n",
              "      background-color: #E2EBFA;\n",
              "      box-shadow: 0px 1px 2px rgba(60, 64, 67, 0.3), 0px 1px 3px 1px rgba(60, 64, 67, 0.15);\n",
              "      fill: #174EA6;\n",
              "    }\n",
              "\n",
              "    [theme=dark] .colab-df-convert {\n",
              "      background-color: #3B4455;\n",
              "      fill: #D2E3FC;\n",
              "    }\n",
              "\n",
              "    [theme=dark] .colab-df-convert:hover {\n",
              "      background-color: #434B5C;\n",
              "      box-shadow: 0px 1px 3px 1px rgba(0, 0, 0, 0.15);\n",
              "      filter: drop-shadow(0px 1px 2px rgba(0, 0, 0, 0.3));\n",
              "      fill: #FFFFFF;\n",
              "    }\n",
              "  </style>\n",
              "\n",
              "      <script>\n",
              "        const buttonEl =\n",
              "          document.querySelector('#df-e33857f4-de74-496d-844b-ed7ff19d7035 button.colab-df-convert');\n",
              "        buttonEl.style.display =\n",
              "          google.colab.kernel.accessAllowed ? 'block' : 'none';\n",
              "\n",
              "        async function convertToInteractive(key) {\n",
              "          const element = document.querySelector('#df-e33857f4-de74-496d-844b-ed7ff19d7035');\n",
              "          const dataTable =\n",
              "            await google.colab.kernel.invokeFunction('convertToInteractive',\n",
              "                                                     [key], {});\n",
              "          if (!dataTable) return;\n",
              "\n",
              "          const docLinkHtml = 'Like what you see? Visit the ' +\n",
              "            '<a target=\"_blank\" href=https://colab.research.google.com/notebooks/data_table.ipynb>data table notebook</a>'\n",
              "            + ' to learn more about interactive tables.';\n",
              "          element.innerHTML = '';\n",
              "          dataTable['output_type'] = 'display_data';\n",
              "          await google.colab.output.renderOutput(dataTable, element);\n",
              "          const docLink = document.createElement('div');\n",
              "          docLink.innerHTML = docLinkHtml;\n",
              "          element.appendChild(docLink);\n",
              "        }\n",
              "      </script>\n",
              "    </div>\n",
              "  </div>\n",
              "  "
            ]
          },
          "metadata": {},
          "execution_count": 36
        }
      ],
      "source": [
        "df2.describe()"
      ]
    },
    {
      "cell_type": "code",
      "execution_count": 37,
      "metadata": {
        "id": "5Yhzasl1F94q"
      },
      "outputs": [],
      "source": [
        "X=df2"
      ]
    },
    {
      "cell_type": "code",
      "execution_count": 38,
      "metadata": {
        "colab": {
          "base_uri": "https://localhost:8080/"
        },
        "id": "4EsDaLLnwYaf",
        "outputId": "e7d0c517-0321-4561-f578-0c01910c5dd8"
      },
      "outputs": [
        {
          "output_type": "execute_result",
          "data": {
            "text/plain": [
              "((146550, 174), (146550,))"
            ]
          },
          "metadata": {},
          "execution_count": 38
        }
      ],
      "source": [
        "X.shape,Y.shape"
      ]
    },
    {
      "cell_type": "code",
      "execution_count": 39,
      "metadata": {
        "colab": {
          "base_uri": "https://localhost:8080/"
        },
        "id": "l6TKPaY4vf1i",
        "outputId": "a894f054-0f9c-496c-adcc-b6417cb5b132"
      },
      "outputs": [
        {
          "output_type": "stream",
          "name": "stdout",
          "text": [
            "(117240, 174) (29310, 174) (117240,) (29310,)\n"
          ]
        }
      ],
      "source": [
        "# split into train and test datasets\n",
        "from sklearn.model_selection import train_test_split\n",
        "X_train, X_test, Y_train, Y_test = train_test_split(X, Y, test_size=0.2,random_state=7)\n",
        "print(X_train.shape, X_test.shape, Y_train.shape, Y_test.shape)"
      ]
    },
    {
      "cell_type": "code",
      "execution_count": 40,
      "metadata": {
        "id": "a5xjwYbwzVGN"
      },
      "outputs": [],
      "source": [
        "def eval_fun(Y_test,Y_pred):\n",
        "  from sklearn.metrics import r2_score,mean_squared_error,mean_absolute_error\n",
        "  r2 = r2_score(Y_test,Y_pred)\n",
        "  mse = mean_squared_error(Y_test,Y_pred)\n",
        "  mae = mean_absolute_error(Y_test,Y_pred)\n",
        "  return r2,mse,mae"
      ]
    },
    {
      "cell_type": "code",
      "execution_count": 41,
      "metadata": {
        "colab": {
          "base_uri": "https://localhost:8080/"
        },
        "id": "vLanf3ryzVJ5",
        "outputId": "fc9f48d7-a11d-4185-daf5-8bec7f3bb7b1"
      },
      "outputs": [
        {
          "output_type": "stream",
          "name": "stdout",
          "text": [
            "r2 score:  0.1263662331457973 mean_squared_error:  400832159717.05585 mean_absolute_error:  181353.36912282498\n"
          ]
        }
      ],
      "source": [
        "#Linear REgression(lr_model)\n",
        "from sklearn import linear_model\n",
        "from sklearn.tree import DecisionTreeRegressor\n",
        "from sklearn.metrics import mean_squared_error,mean_absolute_error\n",
        "lr_model = linear_model.LinearRegression()\n",
        "lr_model.fit(X_train,Y_train)\n",
        "y_pred_lr = lr_model.predict(X_test)\n",
        "#r2,mse,mae for lr model\n",
        "r2,mse,mae = eval_fun(Y_test,y_pred_lr)\n",
        "print(\"r2 score: \",r2,\"mean_squared_error: \",mse,\"mean_absolute_error: \",mae)"
      ]
    },
    {
      "cell_type": "code",
      "execution_count": 42,
      "metadata": {
        "colab": {
          "base_uri": "https://localhost:8080/"
        },
        "id": "TQfhQMna7lRa",
        "outputId": "852903b3-0f29-404c-908c-efa5c063f654"
      },
      "outputs": [
        {
          "output_type": "stream",
          "name": "stdout",
          "text": [
            "Predicted values are:  [ -8192.  56320.  64512. 138240. -52224.]\n",
            "Real value are:  145666        0.00\n",
            "81706     82216.14\n",
            "94045       114.71\n",
            "123093      109.00\n",
            "141486      125.77\n",
            "Name: Value, dtype: float64\n"
          ]
        }
      ],
      "source": [
        "#predict on test data\n",
        "predictions=lr_model.predict(X_test[:5])\n",
        "print(\"Predicted values are: \",predictions)\n",
        "print(\"Real value are: \",Y_test[:5])"
      ]
    },
    {
      "cell_type": "code",
      "source": [
        "X_test.head(2)"
      ],
      "metadata": {
        "colab": {
          "base_uri": "https://localhost:8080/",
          "height": 292
        },
        "id": "78jxzfiRCXj-",
        "outputId": "49e0c720-cc66-44ba-f97c-5ce289579ab2"
      },
      "execution_count": 43,
      "outputs": [
        {
          "output_type": "execute_result",
          "data": {
            "text/plain": [
              "            Year  Area_Albania  Area_Algeria  Area_Angola  Area_Argentina  \\\n",
              "145666  1.000000           0.0           0.0          0.0             0.0   \n",
              "81706   0.933333           0.0           0.0          0.0             0.0   \n",
              "\n",
              "        Area_Armenia  Area_Australia  Area_Austria  Area_Azerbaijan  \\\n",
              "145666           0.0             0.0           0.0              0.0   \n",
              "81706            0.0             0.0           0.0              0.0   \n",
              "\n",
              "        Area_Bahrain  ...  Item_Phosphate rock  \\\n",
              "145666           0.0  ...                  0.0   \n",
              "81706            0.0  ...                  0.0   \n",
              "\n",
              "        Item_Potassium chloride (muriate of potash) (MOP)  \\\n",
              "145666                                                0.0   \n",
              "81706                                                 0.0   \n",
              "\n",
              "        Item_Potassium nitrate  \\\n",
              "145666                     0.0   \n",
              "81706                      0.0   \n",
              "\n",
              "        Item_Potassium sulphate (sulphate of potash) (SOP)  \\\n",
              "145666                                                0.0    \n",
              "81706                                                 0.0    \n",
              "\n",
              "        Item_Sodium nitrate  Item_Superphosphates above 35%  \\\n",
              "145666                  0.0                             1.0   \n",
              "81706                   0.0                             0.0   \n",
              "\n",
              "        Item_Superphosphates, other  Item_Urea  \\\n",
              "145666                          0.0        0.0   \n",
              "81706                           0.0        0.0   \n",
              "\n",
              "        Item_Urea and ammonium nitrate solutions (UAN)  Unit_tonnes  \n",
              "145666                                             0.0          1.0  \n",
              "81706                                              0.0          0.0  \n",
              "\n",
              "[2 rows x 174 columns]"
            ],
            "text/html": [
              "\n",
              "  <div id=\"df-0421ce63-cfc7-4189-9231-4b1ea26a704d\">\n",
              "    <div class=\"colab-df-container\">\n",
              "      <div>\n",
              "<style scoped>\n",
              "    .dataframe tbody tr th:only-of-type {\n",
              "        vertical-align: middle;\n",
              "    }\n",
              "\n",
              "    .dataframe tbody tr th {\n",
              "        vertical-align: top;\n",
              "    }\n",
              "\n",
              "    .dataframe thead th {\n",
              "        text-align: right;\n",
              "    }\n",
              "</style>\n",
              "<table border=\"1\" class=\"dataframe\">\n",
              "  <thead>\n",
              "    <tr style=\"text-align: right;\">\n",
              "      <th></th>\n",
              "      <th>Year</th>\n",
              "      <th>Area_Albania</th>\n",
              "      <th>Area_Algeria</th>\n",
              "      <th>Area_Angola</th>\n",
              "      <th>Area_Argentina</th>\n",
              "      <th>Area_Armenia</th>\n",
              "      <th>Area_Australia</th>\n",
              "      <th>Area_Austria</th>\n",
              "      <th>Area_Azerbaijan</th>\n",
              "      <th>Area_Bahrain</th>\n",
              "      <th>...</th>\n",
              "      <th>Item_Phosphate rock</th>\n",
              "      <th>Item_Potassium chloride (muriate of potash) (MOP)</th>\n",
              "      <th>Item_Potassium nitrate</th>\n",
              "      <th>Item_Potassium sulphate (sulphate of potash) (SOP)</th>\n",
              "      <th>Item_Sodium nitrate</th>\n",
              "      <th>Item_Superphosphates above 35%</th>\n",
              "      <th>Item_Superphosphates, other</th>\n",
              "      <th>Item_Urea</th>\n",
              "      <th>Item_Urea and ammonium nitrate solutions (UAN)</th>\n",
              "      <th>Unit_tonnes</th>\n",
              "    </tr>\n",
              "  </thead>\n",
              "  <tbody>\n",
              "    <tr>\n",
              "      <th>145666</th>\n",
              "      <td>1.000000</td>\n",
              "      <td>0.0</td>\n",
              "      <td>0.0</td>\n",
              "      <td>0.0</td>\n",
              "      <td>0.0</td>\n",
              "      <td>0.0</td>\n",
              "      <td>0.0</td>\n",
              "      <td>0.0</td>\n",
              "      <td>0.0</td>\n",
              "      <td>0.0</td>\n",
              "      <td>...</td>\n",
              "      <td>0.0</td>\n",
              "      <td>0.0</td>\n",
              "      <td>0.0</td>\n",
              "      <td>0.0</td>\n",
              "      <td>0.0</td>\n",
              "      <td>1.0</td>\n",
              "      <td>0.0</td>\n",
              "      <td>0.0</td>\n",
              "      <td>0.0</td>\n",
              "      <td>1.0</td>\n",
              "    </tr>\n",
              "    <tr>\n",
              "      <th>81706</th>\n",
              "      <td>0.933333</td>\n",
              "      <td>0.0</td>\n",
              "      <td>0.0</td>\n",
              "      <td>0.0</td>\n",
              "      <td>0.0</td>\n",
              "      <td>0.0</td>\n",
              "      <td>0.0</td>\n",
              "      <td>0.0</td>\n",
              "      <td>0.0</td>\n",
              "      <td>0.0</td>\n",
              "      <td>...</td>\n",
              "      <td>0.0</td>\n",
              "      <td>0.0</td>\n",
              "      <td>0.0</td>\n",
              "      <td>0.0</td>\n",
              "      <td>0.0</td>\n",
              "      <td>0.0</td>\n",
              "      <td>0.0</td>\n",
              "      <td>0.0</td>\n",
              "      <td>0.0</td>\n",
              "      <td>0.0</td>\n",
              "    </tr>\n",
              "  </tbody>\n",
              "</table>\n",
              "<p>2 rows × 174 columns</p>\n",
              "</div>\n",
              "      <button class=\"colab-df-convert\" onclick=\"convertToInteractive('df-0421ce63-cfc7-4189-9231-4b1ea26a704d')\"\n",
              "              title=\"Convert this dataframe to an interactive table.\"\n",
              "              style=\"display:none;\">\n",
              "        \n",
              "  <svg xmlns=\"http://www.w3.org/2000/svg\" height=\"24px\"viewBox=\"0 0 24 24\"\n",
              "       width=\"24px\">\n",
              "    <path d=\"M0 0h24v24H0V0z\" fill=\"none\"/>\n",
              "    <path d=\"M18.56 5.44l.94 2.06.94-2.06 2.06-.94-2.06-.94-.94-2.06-.94 2.06-2.06.94zm-11 1L8.5 8.5l.94-2.06 2.06-.94-2.06-.94L8.5 2.5l-.94 2.06-2.06.94zm10 10l.94 2.06.94-2.06 2.06-.94-2.06-.94-.94-2.06-.94 2.06-2.06.94z\"/><path d=\"M17.41 7.96l-1.37-1.37c-.4-.4-.92-.59-1.43-.59-.52 0-1.04.2-1.43.59L10.3 9.45l-7.72 7.72c-.78.78-.78 2.05 0 2.83L4 21.41c.39.39.9.59 1.41.59.51 0 1.02-.2 1.41-.59l7.78-7.78 2.81-2.81c.8-.78.8-2.07 0-2.86zM5.41 20L4 18.59l7.72-7.72 1.47 1.35L5.41 20z\"/>\n",
              "  </svg>\n",
              "      </button>\n",
              "      \n",
              "  <style>\n",
              "    .colab-df-container {\n",
              "      display:flex;\n",
              "      flex-wrap:wrap;\n",
              "      gap: 12px;\n",
              "    }\n",
              "\n",
              "    .colab-df-convert {\n",
              "      background-color: #E8F0FE;\n",
              "      border: none;\n",
              "      border-radius: 50%;\n",
              "      cursor: pointer;\n",
              "      display: none;\n",
              "      fill: #1967D2;\n",
              "      height: 32px;\n",
              "      padding: 0 0 0 0;\n",
              "      width: 32px;\n",
              "    }\n",
              "\n",
              "    .colab-df-convert:hover {\n",
              "      background-color: #E2EBFA;\n",
              "      box-shadow: 0px 1px 2px rgba(60, 64, 67, 0.3), 0px 1px 3px 1px rgba(60, 64, 67, 0.15);\n",
              "      fill: #174EA6;\n",
              "    }\n",
              "\n",
              "    [theme=dark] .colab-df-convert {\n",
              "      background-color: #3B4455;\n",
              "      fill: #D2E3FC;\n",
              "    }\n",
              "\n",
              "    [theme=dark] .colab-df-convert:hover {\n",
              "      background-color: #434B5C;\n",
              "      box-shadow: 0px 1px 3px 1px rgba(0, 0, 0, 0.15);\n",
              "      filter: drop-shadow(0px 1px 2px rgba(0, 0, 0, 0.3));\n",
              "      fill: #FFFFFF;\n",
              "    }\n",
              "  </style>\n",
              "\n",
              "      <script>\n",
              "        const buttonEl =\n",
              "          document.querySelector('#df-0421ce63-cfc7-4189-9231-4b1ea26a704d button.colab-df-convert');\n",
              "        buttonEl.style.display =\n",
              "          google.colab.kernel.accessAllowed ? 'block' : 'none';\n",
              "\n",
              "        async function convertToInteractive(key) {\n",
              "          const element = document.querySelector('#df-0421ce63-cfc7-4189-9231-4b1ea26a704d');\n",
              "          const dataTable =\n",
              "            await google.colab.kernel.invokeFunction('convertToInteractive',\n",
              "                                                     [key], {});\n",
              "          if (!dataTable) return;\n",
              "\n",
              "          const docLinkHtml = 'Like what you see? Visit the ' +\n",
              "            '<a target=\"_blank\" href=https://colab.research.google.com/notebooks/data_table.ipynb>data table notebook</a>'\n",
              "            + ' to learn more about interactive tables.';\n",
              "          element.innerHTML = '';\n",
              "          dataTable['output_type'] = 'display_data';\n",
              "          await google.colab.output.renderOutput(dataTable, element);\n",
              "          const docLink = document.createElement('div');\n",
              "          docLink.innerHTML = docLinkHtml;\n",
              "          element.appendChild(docLink);\n",
              "        }\n",
              "      </script>\n",
              "    </div>\n",
              "  </div>\n",
              "  "
            ]
          },
          "metadata": {},
          "execution_count": 43
        }
      ]
    },
    {
      "cell_type": "code",
      "execution_count": 44,
      "metadata": {
        "colab": {
          "base_uri": "https://localhost:8080/"
        },
        "id": "RUrOB3jDzVOB",
        "outputId": "fc237e58-a614-462a-c8ad-6a19ce45ef7c"
      },
      "outputs": [
        {
          "output_type": "stream",
          "name": "stdout",
          "text": [
            "r2 score:  0.6882625397853395 mean_squared_error:  143028353737.39084 mean_absolute_error:  30197.08590276356\n"
          ]
        }
      ],
      "source": [
        "##Decsion Tree(tree)\n",
        "tree = DecisionTreeRegressor()\n",
        "tree.fit(X_train,Y_train)\n",
        "y_pred_tree = tree.predict(X_test)\n",
        "\n",
        "#r2,mse,mae for dt model\n",
        "r2,mse,mae = eval_fun(Y_test,y_pred_tree)\n",
        "print(\"r2 score: \",r2,\"mean_squared_error: \",mse,\"mean_absolute_error: \",mae)"
      ]
    },
    {
      "cell_type": "code",
      "execution_count": 45,
      "metadata": {
        "colab": {
          "base_uri": "https://localhost:8080/"
        },
        "id": "4WTnjYoz70IH",
        "outputId": "126a9b16-7211-4de4-d2e8-acc3fe7bb4a6"
      },
      "outputs": [
        {
          "output_type": "stream",
          "name": "stdout",
          "text": [
            "Predicted values are:  [2.000000e-02 8.290871e+04 1.516800e+02 6.024000e+01 2.084300e+02]\n",
            "Real value are:  145666        0.00\n",
            "81706     82216.14\n",
            "94045       114.71\n",
            "123093      109.00\n",
            "141486      125.77\n",
            "Name: Value, dtype: float64\n"
          ]
        }
      ],
      "source": [
        "#predict on test data\n",
        "predictions=tree.predict(X_test[:5])\n",
        "print(\"Predicted values are: \",predictions)\n",
        "print(\"Real value are: \",Y_test[:5])"
      ]
    },
    {
      "cell_type": "code",
      "execution_count": 46,
      "metadata": {
        "colab": {
          "base_uri": "https://localhost:8080/"
        },
        "id": "RHR9g18p1ZHR",
        "outputId": "33a5a540-8797-4192-ddfb-63383f8cf810"
      },
      "outputs": [
        {
          "output_type": "stream",
          "name": "stdout",
          "text": [
            "r2 score:  0.7025498508039042 mean_squared_error:  136473188461.73787 mean_absolute_error:  39504.39131385572\n"
          ]
        }
      ],
      "source": [
        "##Random Forest(model)\n",
        "#increase no of trees and see the effect\n",
        "from sklearn.ensemble import RandomForestRegressor\n",
        "model =  RandomForestRegressor(n_estimators = 30 , random_state=30)\n",
        "model.fit(X_train,Y_train)\n",
        "y_pred_RF = model.predict(X_test)\n",
        "#r2,mse,mae for dt model\n",
        "r2,mse,mae = eval_fun(Y_test,y_pred_RF)\n",
        "print(\"r2 score: \",r2,\"mean_squared_error: \",mse,\"mean_absolute_error: \",mae)"
      ]
    },
    {
      "cell_type": "code",
      "source": [
        "Y_pred_rf = model.predict(X_test)"
      ],
      "metadata": {
        "id": "ceydtTlD6W1z"
      },
      "execution_count": 47,
      "outputs": []
    },
    {
      "cell_type": "code",
      "execution_count": 48,
      "metadata": {
        "colab": {
          "base_uri": "https://localhost:8080/"
        },
        "id": "J3PD5D408IN3",
        "outputId": "41c863f6-67eb-4476-c19f-f7f93b51d62c"
      },
      "outputs": [
        {
          "output_type": "stream",
          "name": "stdout",
          "text": [
            "Predicted values are:  [ 1968.117      85333.54333333   476.492         97.806\n",
            "   183.66      ]\n",
            "Real value are:  145666        0.00\n",
            "81706     82216.14\n",
            "94045       114.71\n",
            "123093      109.00\n",
            "141486      125.77\n",
            "Name: Value, dtype: float64\n"
          ]
        }
      ],
      "source": [
        "#predict on test data\n",
        "predictions=model.predict(X_test[:5])\n",
        "print(\"Predicted values are: \",predictions)\n",
        "targets = Y_test[:5]\n",
        "print(\"Real value are: \",Y_test[:5])"
      ]
    },
    {
      "cell_type": "code",
      "source": [
        "def rmse(Y_test,Y_pred):\n",
        "  from sklearn.metrics import mean_squared_error\n",
        "  import numpy as np\n",
        "  mse = mean_squared_error(Y_test,Y_pred)\n",
        "  rmse=np.sqrt(mse)\n",
        "  return rmse\n",
        "rmse(Y_test,Y_pred_rf)"
      ],
      "metadata": {
        "id": "_xGuOOJabcnC",
        "colab": {
          "base_uri": "https://localhost:8080/"
        },
        "outputId": "b5ea6f38-9a2a-455a-b033-9b6daed594ba"
      },
      "execution_count": 49,
      "outputs": [
        {
          "output_type": "execute_result",
          "data": {
            "text/plain": [
              "369422.77739974"
            ]
          },
          "metadata": {},
          "execution_count": 49
        }
      ]
    },
    {
      "cell_type": "code",
      "source": [],
      "metadata": {
        "id": "WNTi06oAbcqQ"
      },
      "execution_count": null,
      "outputs": []
    },
    {
      "cell_type": "code",
      "source": [],
      "metadata": {
        "id": "j6ySebRbbctJ"
      },
      "execution_count": null,
      "outputs": []
    },
    {
      "cell_type": "code",
      "source": [],
      "metadata": {
        "id": "WU4fi9N7bcwJ"
      },
      "execution_count": null,
      "outputs": []
    },
    {
      "cell_type": "code",
      "source": [],
      "metadata": {
        "id": "hedv5k03bcy1"
      },
      "execution_count": null,
      "outputs": []
    },
    {
      "cell_type": "code",
      "source": [],
      "metadata": {
        "id": "FhfT08nJbc1Q"
      },
      "execution_count": null,
      "outputs": []
    },
    {
      "cell_type": "code",
      "source": [],
      "metadata": {
        "id": "3YlN6PBxbc3t"
      },
      "execution_count": null,
      "outputs": []
    },
    {
      "cell_type": "code",
      "source": [],
      "metadata": {
        "id": "y-ED9pRObc6J"
      },
      "execution_count": null,
      "outputs": []
    },
    {
      "cell_type": "code",
      "source": [],
      "metadata": {
        "id": "1p-s6AYxbc8_"
      },
      "execution_count": null,
      "outputs": []
    }
  ],
  "metadata": {
    "colab": {
      "collapsed_sections": [],
      "provenance": []
    },
    "kernelspec": {
      "display_name": "Python 3",
      "name": "python3"
    },
    "language_info": {
      "name": "python"
    }
  },
  "nbformat": 4,
  "nbformat_minor": 0
}